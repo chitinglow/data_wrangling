{
  "nbformat": 4,
  "nbformat_minor": 0,
  "metadata": {
    "colab": {
      "name": "ThinkPandas.ipynb",
      "provenance": [],
      "collapsed_sections": [],
      "authorship_tag": "ABX9TyO5FOZs/D66+BRklre/ldRI",
      "include_colab_link": true
    },
    "kernelspec": {
      "name": "python3",
      "display_name": "Python 3"
    },
    "language_info": {
      "name": "python"
    }
  },
  "cells": [
    {
      "cell_type": "markdown",
      "metadata": {
        "id": "view-in-github",
        "colab_type": "text"
      },
      "source": [
        "<a href=\"https://colab.research.google.com/github/chitinglow/data_wrangling/blob/main/ThinkPandas.ipynb\" target=\"_parent\"><img src=\"https://colab.research.google.com/assets/colab-badge.svg\" alt=\"Open In Colab\"/></a>"
      ]
    },
    {
      "cell_type": "code",
      "metadata": {
        "colab": {
          "base_uri": "https://localhost:8080/"
        },
        "id": "C2fyCvchERFl",
        "outputId": "46c087be-03ca-4613-e00f-2b655c6129b8"
      },
      "source": [
        "import pandas as pd\n",
        "\n",
        "account_info = pd.DataFrame({\"name\" : [\"Bob\", \"Mary\", \"Mita\"],\n",
        "                             \"account\" : [123845, 123972, 347209],\n",
        "                             \"balance\": [123, 3972, 7209]})\n",
        "account_info[\"name\"]"
      ],
      "execution_count": 1,
      "outputs": [
        {
          "output_type": "execute_result",
          "data": {
            "text/plain": [
              "0     Bob\n",
              "1    Mary\n",
              "2    Mita\n",
              "Name: name, dtype: object"
            ]
          },
          "metadata": {
            "tags": []
          },
          "execution_count": 1
        }
      ]
    },
    {
      "cell_type": "code",
      "metadata": {
        "colab": {
          "base_uri": "https://localhost:8080/",
          "height": 142
        },
        "id": "_GhKBZltEsMa",
        "outputId": "9e53d14b-6e9c-4400-8a8f-7f00a38e0860"
      },
      "source": [
        "account_info[\"name\"] = [\"Smith\", \"Jane\", \"Patel\"]\n",
        "account_info"
      ],
      "execution_count": 2,
      "outputs": [
        {
          "output_type": "execute_result",
          "data": {
            "text/html": [
              "<div>\n",
              "<style scoped>\n",
              "    .dataframe tbody tr th:only-of-type {\n",
              "        vertical-align: middle;\n",
              "    }\n",
              "\n",
              "    .dataframe tbody tr th {\n",
              "        vertical-align: top;\n",
              "    }\n",
              "\n",
              "    .dataframe thead th {\n",
              "        text-align: right;\n",
              "    }\n",
              "</style>\n",
              "<table border=\"1\" class=\"dataframe\">\n",
              "  <thead>\n",
              "    <tr style=\"text-align: right;\">\n",
              "      <th></th>\n",
              "      <th>name</th>\n",
              "      <th>account</th>\n",
              "      <th>balance</th>\n",
              "    </tr>\n",
              "  </thead>\n",
              "  <tbody>\n",
              "    <tr>\n",
              "      <th>0</th>\n",
              "      <td>Smith</td>\n",
              "      <td>123845</td>\n",
              "      <td>123</td>\n",
              "    </tr>\n",
              "    <tr>\n",
              "      <th>1</th>\n",
              "      <td>Jane</td>\n",
              "      <td>123972</td>\n",
              "      <td>3972</td>\n",
              "    </tr>\n",
              "    <tr>\n",
              "      <th>2</th>\n",
              "      <td>Patel</td>\n",
              "      <td>347209</td>\n",
              "      <td>7209</td>\n",
              "    </tr>\n",
              "  </tbody>\n",
              "</table>\n",
              "</div>"
            ],
            "text/plain": [
              "    name  account  balance\n",
              "0  Smith   123845      123\n",
              "1   Jane   123972     3972\n",
              "2  Patel   347209     7209"
            ]
          },
          "metadata": {
            "tags": []
          },
          "execution_count": 2
        }
      ]
    },
    {
      "cell_type": "code",
      "metadata": {
        "colab": {
          "base_uri": "https://localhost:8080/",
          "height": 142
        },
        "id": "Bzajigr7FDNQ",
        "outputId": "d68a1b0a-8d05-4856-d6df-5c89df62c7b7"
      },
      "source": [
        "account_info[['name', 'balance']]"
      ],
      "execution_count": 3,
      "outputs": [
        {
          "output_type": "execute_result",
          "data": {
            "text/html": [
              "<div>\n",
              "<style scoped>\n",
              "    .dataframe tbody tr th:only-of-type {\n",
              "        vertical-align: middle;\n",
              "    }\n",
              "\n",
              "    .dataframe tbody tr th {\n",
              "        vertical-align: top;\n",
              "    }\n",
              "\n",
              "    .dataframe thead th {\n",
              "        text-align: right;\n",
              "    }\n",
              "</style>\n",
              "<table border=\"1\" class=\"dataframe\">\n",
              "  <thead>\n",
              "    <tr style=\"text-align: right;\">\n",
              "      <th></th>\n",
              "      <th>name</th>\n",
              "      <th>balance</th>\n",
              "    </tr>\n",
              "  </thead>\n",
              "  <tbody>\n",
              "    <tr>\n",
              "      <th>0</th>\n",
              "      <td>Smith</td>\n",
              "      <td>123</td>\n",
              "    </tr>\n",
              "    <tr>\n",
              "      <th>1</th>\n",
              "      <td>Jane</td>\n",
              "      <td>3972</td>\n",
              "    </tr>\n",
              "    <tr>\n",
              "      <th>2</th>\n",
              "      <td>Patel</td>\n",
              "      <td>7209</td>\n",
              "    </tr>\n",
              "  </tbody>\n",
              "</table>\n",
              "</div>"
            ],
            "text/plain": [
              "    name  balance\n",
              "0  Smith      123\n",
              "1   Jane     3972\n",
              "2  Patel     7209"
            ]
          },
          "metadata": {
            "tags": []
          },
          "execution_count": 3
        }
      ]
    },
    {
      "cell_type": "code",
      "metadata": {
        "colab": {
          "base_uri": "https://localhost:8080/"
        },
        "id": "K7N2G9SsFInX",
        "outputId": "e015672c-4a1b-4f65-a245-5c068a59e1b9"
      },
      "source": [
        "# The iloc method (accessing rows)\n",
        "# First row\n",
        "account_info.iloc[1]"
      ],
      "execution_count": 4,
      "outputs": [
        {
          "output_type": "execute_result",
          "data": {
            "text/plain": [
              "name         Jane\n",
              "account    123972\n",
              "balance      3972\n",
              "Name: 1, dtype: object"
            ]
          },
          "metadata": {
            "tags": []
          },
          "execution_count": 4
        }
      ]
    },
    {
      "cell_type": "code",
      "metadata": {
        "colab": {
          "base_uri": "https://localhost:8080/",
          "height": 111
        },
        "id": "9gvOX-o5FROn",
        "outputId": "7117be28-64f2-4e89-9b7e-b06f7b7c16a7"
      },
      "source": [
        "# first two rows\n",
        "account_info.iloc[0:2]"
      ],
      "execution_count": 5,
      "outputs": [
        {
          "output_type": "execute_result",
          "data": {
            "text/html": [
              "<div>\n",
              "<style scoped>\n",
              "    .dataframe tbody tr th:only-of-type {\n",
              "        vertical-align: middle;\n",
              "    }\n",
              "\n",
              "    .dataframe tbody tr th {\n",
              "        vertical-align: top;\n",
              "    }\n",
              "\n",
              "    .dataframe thead th {\n",
              "        text-align: right;\n",
              "    }\n",
              "</style>\n",
              "<table border=\"1\" class=\"dataframe\">\n",
              "  <thead>\n",
              "    <tr style=\"text-align: right;\">\n",
              "      <th></th>\n",
              "      <th>name</th>\n",
              "      <th>account</th>\n",
              "      <th>balance</th>\n",
              "    </tr>\n",
              "  </thead>\n",
              "  <tbody>\n",
              "    <tr>\n",
              "      <th>0</th>\n",
              "      <td>Smith</td>\n",
              "      <td>123845</td>\n",
              "      <td>123</td>\n",
              "    </tr>\n",
              "    <tr>\n",
              "      <th>1</th>\n",
              "      <td>Jane</td>\n",
              "      <td>123972</td>\n",
              "      <td>3972</td>\n",
              "    </tr>\n",
              "  </tbody>\n",
              "</table>\n",
              "</div>"
            ],
            "text/plain": [
              "    name  account  balance\n",
              "0  Smith   123845      123\n",
              "1   Jane   123972     3972"
            ]
          },
          "metadata": {
            "tags": []
          },
          "execution_count": 5
        }
      ]
    },
    {
      "cell_type": "code",
      "metadata": {
        "colab": {
          "base_uri": "https://localhost:8080/",
          "height": 142
        },
        "id": "wSjibdc7FXDI",
        "outputId": "925308cb-49d2-41e4-cc86-8e3cc7d0ec6b"
      },
      "source": [
        "# all rows\n",
        "account_info[:]"
      ],
      "execution_count": 7,
      "outputs": [
        {
          "output_type": "execute_result",
          "data": {
            "text/html": [
              "<div>\n",
              "<style scoped>\n",
              "    .dataframe tbody tr th:only-of-type {\n",
              "        vertical-align: middle;\n",
              "    }\n",
              "\n",
              "    .dataframe tbody tr th {\n",
              "        vertical-align: top;\n",
              "    }\n",
              "\n",
              "    .dataframe thead th {\n",
              "        text-align: right;\n",
              "    }\n",
              "</style>\n",
              "<table border=\"1\" class=\"dataframe\">\n",
              "  <thead>\n",
              "    <tr style=\"text-align: right;\">\n",
              "      <th></th>\n",
              "      <th>name</th>\n",
              "      <th>account</th>\n",
              "      <th>balance</th>\n",
              "    </tr>\n",
              "  </thead>\n",
              "  <tbody>\n",
              "    <tr>\n",
              "      <th>0</th>\n",
              "      <td>Smith</td>\n",
              "      <td>123845</td>\n",
              "      <td>123</td>\n",
              "    </tr>\n",
              "    <tr>\n",
              "      <th>1</th>\n",
              "      <td>Jane</td>\n",
              "      <td>123972</td>\n",
              "      <td>3972</td>\n",
              "    </tr>\n",
              "    <tr>\n",
              "      <th>2</th>\n",
              "      <td>Patel</td>\n",
              "      <td>347209</td>\n",
              "      <td>7209</td>\n",
              "    </tr>\n",
              "  </tbody>\n",
              "</table>\n",
              "</div>"
            ],
            "text/plain": [
              "    name  account  balance\n",
              "0  Smith   123845      123\n",
              "1   Jane   123972     3972\n",
              "2  Patel   347209     7209"
            ]
          },
          "metadata": {
            "tags": []
          },
          "execution_count": 7
        }
      ]
    },
    {
      "cell_type": "code",
      "metadata": {
        "colab": {
          "base_uri": "https://localhost:8080/"
        },
        "id": "vM2-5tPqFZ13",
        "outputId": "e20a069a-3df6-4548-cfbf-35297245add6"
      },
      "source": [
        "# Select 3rd columns 2nd rows\n",
        "account_info.iloc[1,2]"
      ],
      "execution_count": 8,
      "outputs": [
        {
          "output_type": "execute_result",
          "data": {
            "text/plain": [
              "3972"
            ]
          },
          "metadata": {
            "tags": []
          },
          "execution_count": 8
        }
      ]
    },
    {
      "cell_type": "code",
      "metadata": {
        "colab": {
          "base_uri": "https://localhost:8080/"
        },
        "id": "pOpG7A7tFnKf",
        "outputId": "6da9f4b8-1d31-42bb-86ef-7cc3820e371a"
      },
      "source": [
        "# update row record\n",
        "account_info.iloc[1,2] = 3975\n",
        "account_info.iloc[1,2]"
      ],
      "execution_count": 11,
      "outputs": [
        {
          "output_type": "execute_result",
          "data": {
            "text/plain": [
              "3975"
            ]
          },
          "metadata": {
            "tags": []
          },
          "execution_count": 11
        }
      ]
    },
    {
      "cell_type": "code",
      "metadata": {
        "colab": {
          "base_uri": "https://localhost:8080/",
          "height": 142
        },
        "id": "gglwM3UuFppA",
        "outputId": "65df4001-e875-4c3c-a622-96155c6d4ef2"
      },
      "source": [
        "# accessing first and third columns\n",
        "account_info.iloc[:, [0,2]]"
      ],
      "execution_count": 12,
      "outputs": [
        {
          "output_type": "execute_result",
          "data": {
            "text/html": [
              "<div>\n",
              "<style scoped>\n",
              "    .dataframe tbody tr th:only-of-type {\n",
              "        vertical-align: middle;\n",
              "    }\n",
              "\n",
              "    .dataframe tbody tr th {\n",
              "        vertical-align: top;\n",
              "    }\n",
              "\n",
              "    .dataframe thead th {\n",
              "        text-align: right;\n",
              "    }\n",
              "</style>\n",
              "<table border=\"1\" class=\"dataframe\">\n",
              "  <thead>\n",
              "    <tr style=\"text-align: right;\">\n",
              "      <th></th>\n",
              "      <th>name</th>\n",
              "      <th>balance</th>\n",
              "    </tr>\n",
              "  </thead>\n",
              "  <tbody>\n",
              "    <tr>\n",
              "      <th>0</th>\n",
              "      <td>Smith</td>\n",
              "      <td>123</td>\n",
              "    </tr>\n",
              "    <tr>\n",
              "      <th>1</th>\n",
              "      <td>Jane</td>\n",
              "      <td>3975</td>\n",
              "    </tr>\n",
              "    <tr>\n",
              "      <th>2</th>\n",
              "      <td>Patel</td>\n",
              "      <td>7209</td>\n",
              "    </tr>\n",
              "  </tbody>\n",
              "</table>\n",
              "</div>"
            ],
            "text/plain": [
              "    name  balance\n",
              "0  Smith      123\n",
              "1   Jane     3975\n",
              "2  Patel     7209"
            ]
          },
          "metadata": {
            "tags": []
          },
          "execution_count": 12
        }
      ]
    },
    {
      "cell_type": "code",
      "metadata": {
        "colab": {
          "base_uri": "https://localhost:8080/",
          "height": 80
        },
        "id": "UvlrI-iwF4Ao",
        "outputId": "1fe7500a-c8d7-4b67-8d3e-448b4a4e9bf6"
      },
      "source": [
        "# boolean for iloc\n",
        "account_info.iloc[account_info.index %2 == 1]"
      ],
      "execution_count": 14,
      "outputs": [
        {
          "output_type": "execute_result",
          "data": {
            "text/html": [
              "<div>\n",
              "<style scoped>\n",
              "    .dataframe tbody tr th:only-of-type {\n",
              "        vertical-align: middle;\n",
              "    }\n",
              "\n",
              "    .dataframe tbody tr th {\n",
              "        vertical-align: top;\n",
              "    }\n",
              "\n",
              "    .dataframe thead th {\n",
              "        text-align: right;\n",
              "    }\n",
              "</style>\n",
              "<table border=\"1\" class=\"dataframe\">\n",
              "  <thead>\n",
              "    <tr style=\"text-align: right;\">\n",
              "      <th></th>\n",
              "      <th>name</th>\n",
              "      <th>account</th>\n",
              "      <th>balance</th>\n",
              "    </tr>\n",
              "  </thead>\n",
              "  <tbody>\n",
              "    <tr>\n",
              "      <th>1</th>\n",
              "      <td>Jane</td>\n",
              "      <td>123972</td>\n",
              "      <td>3975</td>\n",
              "    </tr>\n",
              "  </tbody>\n",
              "</table>\n",
              "</div>"
            ],
            "text/plain": [
              "   name  account  balance\n",
              "1  Jane   123972     3975"
            ]
          },
          "metadata": {
            "tags": []
          },
          "execution_count": 14
        }
      ]
    },
    {
      "cell_type": "code",
      "metadata": {
        "colab": {
          "base_uri": "https://localhost:8080/"
        },
        "id": "nSIsdH6ZF6dA",
        "outputId": "b36dbff1-223e-473b-ac75-f9d9796dd397"
      },
      "source": [
        "# loc method index into a dataframe via names or labels\n",
        "account_info.loc[1, 'balance']"
      ],
      "execution_count": 15,
      "outputs": [
        {
          "output_type": "execute_result",
          "data": {
            "text/plain": [
              "3975"
            ]
          },
          "metadata": {
            "tags": []
          },
          "execution_count": 15
        }
      ]
    },
    {
      "cell_type": "code",
      "metadata": {
        "colab": {
          "base_uri": "https://localhost:8080/",
          "height": 142
        },
        "id": "uC62Z5s5I1aG",
        "outputId": "7a49d1df-bb2f-4eb8-f4f0-21e112e5ef98"
      },
      "source": [
        "account_info.loc[:, ['name','balance']]"
      ],
      "execution_count": 16,
      "outputs": [
        {
          "output_type": "execute_result",
          "data": {
            "text/html": [
              "<div>\n",
              "<style scoped>\n",
              "    .dataframe tbody tr th:only-of-type {\n",
              "        vertical-align: middle;\n",
              "    }\n",
              "\n",
              "    .dataframe tbody tr th {\n",
              "        vertical-align: top;\n",
              "    }\n",
              "\n",
              "    .dataframe thead th {\n",
              "        text-align: right;\n",
              "    }\n",
              "</style>\n",
              "<table border=\"1\" class=\"dataframe\">\n",
              "  <thead>\n",
              "    <tr style=\"text-align: right;\">\n",
              "      <th></th>\n",
              "      <th>name</th>\n",
              "      <th>balance</th>\n",
              "    </tr>\n",
              "  </thead>\n",
              "  <tbody>\n",
              "    <tr>\n",
              "      <th>0</th>\n",
              "      <td>Smith</td>\n",
              "      <td>123</td>\n",
              "    </tr>\n",
              "    <tr>\n",
              "      <th>1</th>\n",
              "      <td>Jane</td>\n",
              "      <td>3975</td>\n",
              "    </tr>\n",
              "    <tr>\n",
              "      <th>2</th>\n",
              "      <td>Patel</td>\n",
              "      <td>7209</td>\n",
              "    </tr>\n",
              "  </tbody>\n",
              "</table>\n",
              "</div>"
            ],
            "text/plain": [
              "    name  balance\n",
              "0  Smith      123\n",
              "1   Jane     3975\n",
              "2  Patel     7209"
            ]
          },
          "metadata": {
            "tags": []
          },
          "execution_count": 16
        }
      ]
    },
    {
      "cell_type": "code",
      "metadata": {
        "colab": {
          "base_uri": "https://localhost:8080/"
        },
        "id": "kaYp4HDDI9Om",
        "outputId": "6e722d7e-0571-455a-a1b9-f0ec66c41461"
      },
      "source": [
        "# multi indexing \n",
        "import pandas as pd\n",
        "import numpy as np\n",
        "\n",
        "\n",
        "customers = pd.MultiIndex.from_tuples(\n",
        "    ((\"Bob\", \"smithb\"), (\"Mary\", \"mj100\"), (\"Mita\", \"patelm\")),\n",
        "    names=[\"name\", \"username\"],\n",
        ")\n",
        "\n",
        "accounts = pd.MultiIndex.from_tuples(\n",
        "    ((0, \"number\"), (0, \"balance\"), (1, \"number\"), (1, \"balance\")), names=[\"account\", \"account_info\"]\n",
        ")\n",
        "\n",
        "account_info = pd.DataFrame(\n",
        "    [[123846, 123, 123847, 450], [123972, 3972, 123973, 222], [347209, 7209, np.nan, np.nan]],\n",
        "    index=customers,\n",
        "    columns=accounts,\n",
        ")\n",
        "\n",
        "print(account_info)\n",
        "\n",
        "print(account_info.loc[(\"Mary\", \"mj100\"), pd.IndexSlice[:, \"balance\"]])"
      ],
      "execution_count": 19,
      "outputs": [
        {
          "output_type": "stream",
          "text": [
            "account             0                 1        \n",
            "account_info   number balance    number balance\n",
            "name username                                  \n",
            "Bob  smithb    123846     123  123847.0   450.0\n",
            "Mary mj100     123972    3972  123973.0   222.0\n",
            "Mita patelm    347209    7209       NaN     NaN\n",
            "account  account_info\n",
            "0        balance         3972.0\n",
            "1        balance          222.0\n",
            "Name: (Mary, mj100), dtype: float64\n"
          ],
          "name": "stdout"
        }
      ]
    },
    {
      "cell_type": "code",
      "metadata": {
        "id": "d_J9AnrlJLMA"
      },
      "source": [
        "# combining dataframes using merge\n",
        "\n",
        "building_records_1844 = pd.DataFrame(\n",
        "    [[\"Grande Hotel\", 1830],\n",
        "    [\"Jone’s Farm\", 1842],\n",
        "    [\"Public Library\", 1836],\n",
        "    [\"Marietta House\", 1823]],\n",
        "    columns=[\"building\", \"established\"],\n",
        ").set_index([\"building\"])\n",
        "\n",
        "building_records_2020 = pd.DataFrame(\n",
        "    [[\"Sam’s Bakery\", 1962],\n",
        "    [\"Grande Hotel\", 1830],\n",
        "    [\"Public Library\", 1836],\n",
        "    [\"Mayberry’s Factory\", 1924]],\n",
        "    columns=[\"building\", \"established\"],\n",
        ").set_index([\"building\"])\n"
      ],
      "execution_count": 20,
      "outputs": []
    },
    {
      "cell_type": "code",
      "metadata": {
        "colab": {
          "base_uri": "https://localhost:8080/"
        },
        "id": "od5PAb8zKfUn",
        "outputId": "be8930e0-d1fe-423b-965d-102fe6227900"
      },
      "source": [
        "print(building_records_1844)\n",
        "\n",
        "print(building_records_2020)"
      ],
      "execution_count": 21,
      "outputs": [
        {
          "output_type": "stream",
          "text": [
            "                established\n",
            "building                   \n",
            "Grande Hotel           1830\n",
            "Jone’s Farm            1842\n",
            "Public Library         1836\n",
            "Marietta House         1823\n",
            "                    established\n",
            "building                       \n",
            "Sam’s Bakery               1962\n",
            "Grande Hotel               1830\n",
            "Public Library             1836\n",
            "Mayberry’s Factory         1924\n"
          ],
          "name": "stdout"
        }
      ]
    },
    {
      "cell_type": "code",
      "metadata": {
        "colab": {
          "base_uri": "https://localhost:8080/",
          "height": 142
        },
        "id": "84l0UmaGKh4_",
        "outputId": "3875c71d-accb-4242-9ec9-1401447a791a"
      },
      "source": [
        "# merging two data sets without duplication\n",
        "cols = building_records_2020.columns.difference(building_records_1844.columns)\n",
        "pd.merge(building_records_1844, building_records_2020[cols], how='inner', on=['building'])"
      ],
      "execution_count": 24,
      "outputs": [
        {
          "output_type": "execute_result",
          "data": {
            "text/html": [
              "<div>\n",
              "<style scoped>\n",
              "    .dataframe tbody tr th:only-of-type {\n",
              "        vertical-align: middle;\n",
              "    }\n",
              "\n",
              "    .dataframe tbody tr th {\n",
              "        vertical-align: top;\n",
              "    }\n",
              "\n",
              "    .dataframe thead th {\n",
              "        text-align: right;\n",
              "    }\n",
              "</style>\n",
              "<table border=\"1\" class=\"dataframe\">\n",
              "  <thead>\n",
              "    <tr style=\"text-align: right;\">\n",
              "      <th></th>\n",
              "      <th>established</th>\n",
              "    </tr>\n",
              "    <tr>\n",
              "      <th>building</th>\n",
              "      <th></th>\n",
              "    </tr>\n",
              "  </thead>\n",
              "  <tbody>\n",
              "    <tr>\n",
              "      <th>Grande Hotel</th>\n",
              "      <td>1830</td>\n",
              "    </tr>\n",
              "    <tr>\n",
              "      <th>Public Library</th>\n",
              "      <td>1836</td>\n",
              "    </tr>\n",
              "  </tbody>\n",
              "</table>\n",
              "</div>"
            ],
            "text/plain": [
              "                established\n",
              "building                   \n",
              "Grande Hotel           1830\n",
              "Public Library         1836"
            ]
          },
          "metadata": {
            "tags": []
          },
          "execution_count": 24
        }
      ]
    },
    {
      "cell_type": "code",
      "metadata": {
        "colab": {
          "base_uri": "https://localhost:8080/"
        },
        "id": "wkcPS0M_Lb1j",
        "outputId": "86ac4395-b3aa-47f7-d030-314c2194a034"
      },
      "source": [
        "# merging two data sets full show all row no duplication\n",
        "gene_group1 = pd.DataFrame(\n",
        "    [[\"Myc\", 2, 0.05],\n",
        "    [\"BRCA1\", 3, 0.01],\n",
        "    [\"BRCA2\", 8, 0.02]],\n",
        "    columns=[\"id\", \"FC1\", \"P1\"],\n",
        ").set_index([\"id\"])\n",
        "\n",
        "gene_group2 = pd.DataFrame(\n",
        "    [[\"Myc\", 2, 0.05],\n",
        "    [\"BRCA1\", 3, 0.01],\n",
        "    [\"Notch1\", 2, 0.03],\n",
        "    [\"BRCA2\", 8, 0.02]],\n",
        "    columns=[\"id\", \"FC2\", \"P2\"],\n",
        ").set_index([\"id\"])\n",
        "\n",
        "print(gene_group1)\n",
        "\n",
        "print(gene_group2)\n",
        "\n",
        "print(pd.merge(gene_group1, gene_group2, how=\"outer\", on=[\"id\"]))"
      ],
      "execution_count": 26,
      "outputs": [
        {
          "output_type": "stream",
          "text": [
            "       FC1    P1\n",
            "id              \n",
            "Myc      2  0.05\n",
            "BRCA1    3  0.01\n",
            "BRCA2    8  0.02\n",
            "        FC2    P2\n",
            "id               \n",
            "Myc       2  0.05\n",
            "BRCA1     3  0.01\n",
            "Notch1    2  0.03\n",
            "BRCA2     8  0.02\n",
            "        FC1    P1  FC2    P2\n",
            "id                          \n",
            "Myc     2.0  0.05    2  0.05\n",
            "BRCA1   3.0  0.01    3  0.01\n",
            "BRCA2   8.0  0.02    8  0.02\n",
            "Notch1  NaN   NaN    2  0.03\n"
          ],
          "name": "stdout"
        }
      ]
    },
    {
      "cell_type": "code",
      "metadata": {
        "colab": {
          "base_uri": "https://localhost:8080/"
        },
        "id": "XMyhjCbdMI92",
        "outputId": "1d5b5b05-fb1b-458a-d792-9abdf6596f49"
      },
      "source": [
        "# Left join\n",
        "\n",
        "building_records_1844 = pd.DataFrame(\n",
        "    [[\"Grande Hotel\", 1832],\n",
        "    [\"Jone’s Farm\", 1842],\n",
        "    [\"Public Library\", 1836],\n",
        "    [\"Marietta House\", 1823]],\n",
        "    columns=[\"building\", \"established\"],\n",
        ")\n",
        "\n",
        "building_records_2020 = pd.DataFrame(\n",
        "    [[\"Sam’s Bakery\", 1962],\n",
        "    [\"Grande Hotel\", 1830],\n",
        "    [\"Public Library\", 1836],\n",
        "    [\"Mayberry’s Factory\", 1924]],\n",
        "    columns=[\"building\", \"established\"],\n",
        ")\n",
        "\n",
        "\n",
        "print(building_records_1844)\n",
        "\n",
        "print(building_records_2020)\n",
        "\n",
        "merged_records = pd.merge(\n",
        "    building_records_2020,\n",
        "    building_records_1844,\n",
        "    how=\"left\",\n",
        "    right_on=\"building\",\n",
        "    left_on=\"building\",\n",
        "    suffixes=(\"_2000\", \"\"),\n",
        ")\n",
        "\n",
        "print(merged_records)\n",
        "\n",
        "merged_records[\"established\"].fillna(merged_records[\"established_2000\"], inplace=True)\n",
        "\n",
        "del merged_records[\"established_2000\"]\n",
        "\n",
        "print(merged_records)"
      ],
      "execution_count": 27,
      "outputs": [
        {
          "output_type": "stream",
          "text": [
            "         building  established\n",
            "0    Grande Hotel         1832\n",
            "1     Jone’s Farm         1842\n",
            "2  Public Library         1836\n",
            "3  Marietta House         1823\n",
            "             building  established\n",
            "0        Sam’s Bakery         1962\n",
            "1        Grande Hotel         1830\n",
            "2      Public Library         1836\n",
            "3  Mayberry’s Factory         1924\n",
            "             building  established_2000  established\n",
            "0        Sam’s Bakery              1962          NaN\n",
            "1        Grande Hotel              1830       1832.0\n",
            "2      Public Library              1836       1836.0\n",
            "3  Mayberry’s Factory              1924          NaN\n",
            "             building  established\n",
            "0        Sam’s Bakery       1962.0\n",
            "1        Grande Hotel       1832.0\n",
            "2      Public Library       1836.0\n",
            "3  Mayberry’s Factory       1924.0\n"
          ],
          "name": "stdout"
        }
      ]
    },
    {
      "cell_type": "code",
      "metadata": {
        "colab": {
          "base_uri": "https://localhost:8080/"
        },
        "id": "yw-wkD81MZDZ",
        "outputId": "75bc0dca-f7e8-430b-a72f-857828b39580"
      },
      "source": [
        "# anti join\n",
        "\n",
        "trial_a_records = pd.DataFrame(\n",
        "    [[230858, \"John\"],\n",
        "    [237340, \"May\"],\n",
        "    [240932, \"Catherine\"],\n",
        "    [124093, \"Ahmed\"]],\n",
        "    columns=[\"patient\", \"name\"],\n",
        ").set_index(\"patient\")\n",
        "\n",
        "trial_b_records = pd.DataFrame(\n",
        "    [[210858, \"Abi\"],\n",
        "    [237340, \"May\"],\n",
        "    [240932, \"Catherine\"],\n",
        "    [154093, \"Julia\"]],\n",
        "    columns=[\"patient\", \"name\"],\n",
        ").set_index(\"patient\")\n",
        "\n",
        "print(trial_a_records)\n",
        "\n",
        "print(trial_b_records)\n",
        "\n",
        "\n",
        "both_trials = pd.merge(trial_a_records, trial_b_records, how=\"outer\", right_index=True, left_index=True, indicator=True, on=\"name\")\n",
        "print(both_trials)\n",
        "\n",
        "\n",
        "print(both_trials.query('_merge != \"both\"').drop(\"_merge\", 1))\n",
        "\n",
        "\n",
        "both_trials = (\n",
        "    pd.merge(trial_a_records, trial_b_records, how=\"outer\", right_index=True, left_index=True, indicator=True, on=\"name\")\n",
        "    .query('_merge != \"both\"')\n",
        "    .drop(\"_merge\", 1)\n",
        ")"
      ],
      "execution_count": 28,
      "outputs": [
        {
          "output_type": "stream",
          "text": [
            "              name\n",
            "patient           \n",
            "230858        John\n",
            "237340         May\n",
            "240932   Catherine\n",
            "124093       Ahmed\n",
            "              name\n",
            "patient           \n",
            "210858         Abi\n",
            "237340         May\n",
            "240932   Catherine\n",
            "154093       Julia\n",
            "              name      _merge\n",
            "patient                       \n",
            "124093       Ahmed   left_only\n",
            "154093       Julia  right_only\n",
            "210858         Abi  right_only\n",
            "230858        John   left_only\n",
            "237340         May        both\n",
            "240932   Catherine        both\n",
            "          name\n",
            "patient       \n",
            "124093   Ahmed\n",
            "154093   Julia\n",
            "210858     Abi\n",
            "230858    John\n"
          ],
          "name": "stdout"
        }
      ]
    },
    {
      "cell_type": "code",
      "metadata": {
        "colab": {
          "base_uri": "https://localhost:8080/"
        },
        "id": "i5Z5zlKEMgpe",
        "outputId": "8c2463c4-0793-4660-c829-e857b86277df"
      },
      "source": [
        "# combine dataframe with join method\n",
        "building_records_1844 = pd.DataFrame(\n",
        "    [[\"Grande Hotel\", 1831],\n",
        "    [\"Jone’s Farm\", 1842],\n",
        "    [\"Public Library\", 1836],\n",
        "    [\"Marietta House\", 1823]],\n",
        "    columns=[\"building\", \"established\"],\n",
        ").set_index(\"building\")\n",
        "\n",
        "building_records_2020 = pd.DataFrame(\n",
        "    [[\"Sam’s Bakery\", 1962],\n",
        "    [\"Grande Hotel\", 1830],\n",
        "    [\"Public Library\", 1835],\n",
        "    [\"Mayberry’s Factory\", 1924]],\n",
        "    columns=[\"building\", \"established\"],\n",
        ").set_index(\"building\")\n",
        "\n",
        "print(building_records_1844)\n",
        "\n",
        "print(building_records_2020)\n",
        "\n",
        "print(building_records_1844.join(building_records_2020, how=\"inner\", rsuffix=\"_2000\"))"
      ],
      "execution_count": 29,
      "outputs": [
        {
          "output_type": "stream",
          "text": [
            "                established\n",
            "building                   \n",
            "Grande Hotel           1831\n",
            "Jone’s Farm            1842\n",
            "Public Library         1836\n",
            "Marietta House         1823\n",
            "                    established\n",
            "building                       \n",
            "Sam’s Bakery               1962\n",
            "Grande Hotel               1830\n",
            "Public Library             1835\n",
            "Mayberry’s Factory         1924\n",
            "                established  established_2000\n",
            "building                                     \n",
            "Grande Hotel           1831              1830\n",
            "Public Library         1836              1835\n"
          ],
          "name": "stdout"
        }
      ]
    },
    {
      "cell_type": "code",
      "metadata": {
        "colab": {
          "base_uri": "https://localhost:8080/"
        },
        "id": "kTIdWcrRMtOv",
        "outputId": "679135f6-ed53-486b-d0f2-07dcab504d4b"
      },
      "source": [
        "# concat dataframe\n",
        "temp_county_a = pd.DataFrame(\n",
        "    [[(4,5), 35.6],\n",
        "    [(1,2), 37.4],\n",
        "    [(6,4), 36.3],\n",
        "    [(1,7), 40.2]],\n",
        "    columns=[\"location\", \"temp\"],\n",
        ").set_index([\"location\"])\n",
        "\n",
        "temp_county_b = pd.DataFrame(\n",
        "    [[(6,4), 34.2],\n",
        "    [(0,4), 33.7],\n",
        "    [(3,8), 38.1],\n",
        "    [(1,5), 37.0]],\n",
        "    columns=[\"location\", \"temp\"],\n",
        ").set_index([\"location\"])\n",
        "\n",
        "\n",
        "print(temp_county_a)\n",
        "\n",
        "print(temp_county_b)\n",
        "\n",
        "print(pd.concat([temp_county_a, temp_county_b]))"
      ],
      "execution_count": 30,
      "outputs": [
        {
          "output_type": "stream",
          "text": [
            "          temp\n",
            "location      \n",
            "(4, 5)    35.6\n",
            "(1, 2)    37.4\n",
            "(6, 4)    36.3\n",
            "(1, 7)    40.2\n",
            "          temp\n",
            "location      \n",
            "(6, 4)    34.2\n",
            "(0, 4)    33.7\n",
            "(3, 8)    38.1\n",
            "(1, 5)    37.0\n",
            "          temp\n",
            "location      \n",
            "(4, 5)    35.6\n",
            "(1, 2)    37.4\n",
            "(6, 4)    36.3\n",
            "(1, 7)    40.2\n",
            "(6, 4)    34.2\n",
            "(0, 4)    33.7\n",
            "(3, 8)    38.1\n",
            "(1, 5)    37.0\n"
          ],
          "name": "stdout"
        }
      ]
    },
    {
      "cell_type": "code",
      "metadata": {
        "colab": {
          "base_uri": "https://localhost:8080/"
        },
        "id": "mvXcph9DMyc2",
        "outputId": "b5620578-6e9d-4352-b9c9-65e822581c6d"
      },
      "source": [
        "\n",
        "temp_device_a = pd.DataFrame(\n",
        "    [[(4,5), 35.6],\n",
        "    [(1,2), 37.4],\n",
        "    [(6,4), 36.3],\n",
        "    [(1,7), 40.2]],\n",
        "    columns=[\"location\", \"temp\"],\n",
        ").set_index([\"location\"])\n",
        "\n",
        "temp_device_b = pd.DataFrame(\n",
        "    [[(4,5), 34.2],\n",
        "    [(1,2), 36.7],\n",
        "    [(6,4), 37.1],\n",
        "    [(1,7), 39.0]],\n",
        "    columns=[\"location\", \"temp\"],\n",
        ").set_index([\"location\"])\n",
        "\n",
        "\n",
        "print(temp_device_a)\n",
        "\n",
        "print(temp_device_b)\n",
        "\n",
        "print(pd.concat([temp_device_a, temp_device_b], keys=[\"device_a\", \"device_b\"], axis=1))"
      ],
      "execution_count": 31,
      "outputs": [
        {
          "output_type": "stream",
          "text": [
            "          temp\n",
            "location      \n",
            "(4, 5)    35.6\n",
            "(1, 2)    37.4\n",
            "(6, 4)    36.3\n",
            "(1, 7)    40.2\n",
            "          temp\n",
            "location      \n",
            "(4, 5)    34.2\n",
            "(1, 2)    36.7\n",
            "(6, 4)    37.1\n",
            "(1, 7)    39.0\n",
            "         device_a device_b\n",
            "             temp     temp\n",
            "location                  \n",
            "(4, 5)       35.6     34.2\n",
            "(1, 2)       37.4     36.7\n",
            "(6, 4)       36.3     37.1\n",
            "(1, 7)       40.2     39.0\n"
          ],
          "name": "stdout"
        }
      ]
    },
    {
      "cell_type": "code",
      "metadata": {
        "colab": {
          "base_uri": "https://localhost:8080/",
          "height": 173
        },
        "id": "7oT7J8cqM4b3",
        "outputId": "c76952f2-8dac-41d6-f446-ecbdc7d1a8c4"
      },
      "source": [
        "# Data transformation pivot and pivot table\n",
        "\n",
        "df = pd.DataFrame(\n",
        "    [\n",
        "        [\"Diner\", (4, 2), \"02/18\", 90],\n",
        "        [\"Pandas\", (5, 4), \"04/18\", 55],\n",
        "        [\"Diner\", (4, 2), \"05/18\", 100],\n",
        "        [\"Pandas\", (5, 4), \"01/18\", 76],\n",
        "    ],\n",
        "    columns=[\"restaurant\", \"location\", \"date\", \"score\"],\n",
        ")\n",
        "\n",
        "df\n"
      ],
      "execution_count": 37,
      "outputs": [
        {
          "output_type": "execute_result",
          "data": {
            "text/html": [
              "<div>\n",
              "<style scoped>\n",
              "    .dataframe tbody tr th:only-of-type {\n",
              "        vertical-align: middle;\n",
              "    }\n",
              "\n",
              "    .dataframe tbody tr th {\n",
              "        vertical-align: top;\n",
              "    }\n",
              "\n",
              "    .dataframe thead th {\n",
              "        text-align: right;\n",
              "    }\n",
              "</style>\n",
              "<table border=\"1\" class=\"dataframe\">\n",
              "  <thead>\n",
              "    <tr style=\"text-align: right;\">\n",
              "      <th></th>\n",
              "      <th>restaurant</th>\n",
              "      <th>location</th>\n",
              "      <th>date</th>\n",
              "      <th>score</th>\n",
              "    </tr>\n",
              "  </thead>\n",
              "  <tbody>\n",
              "    <tr>\n",
              "      <th>0</th>\n",
              "      <td>Diner</td>\n",
              "      <td>(4, 2)</td>\n",
              "      <td>02/18</td>\n",
              "      <td>90</td>\n",
              "    </tr>\n",
              "    <tr>\n",
              "      <th>1</th>\n",
              "      <td>Pandas</td>\n",
              "      <td>(5, 4)</td>\n",
              "      <td>04/18</td>\n",
              "      <td>55</td>\n",
              "    </tr>\n",
              "    <tr>\n",
              "      <th>2</th>\n",
              "      <td>Diner</td>\n",
              "      <td>(4, 2)</td>\n",
              "      <td>05/18</td>\n",
              "      <td>100</td>\n",
              "    </tr>\n",
              "    <tr>\n",
              "      <th>3</th>\n",
              "      <td>Pandas</td>\n",
              "      <td>(5, 4)</td>\n",
              "      <td>01/18</td>\n",
              "      <td>76</td>\n",
              "    </tr>\n",
              "  </tbody>\n",
              "</table>\n",
              "</div>"
            ],
            "text/plain": [
              "  restaurant location   date  score\n",
              "0      Diner   (4, 2)  02/18     90\n",
              "1     Pandas   (5, 4)  04/18     55\n",
              "2      Diner   (4, 2)  05/18    100\n",
              "3     Pandas   (5, 4)  01/18     76"
            ]
          },
          "metadata": {
            "tags": []
          },
          "execution_count": 37
        }
      ]
    },
    {
      "cell_type": "code",
      "metadata": {
        "colab": {
          "base_uri": "https://localhost:8080/",
          "height": 142
        },
        "id": "0YRbtpwvRvXg",
        "outputId": "79a2f70e-f529-4f20-920e-79c23205a9b5"
      },
      "source": [
        "df = df.pivot_table(values=['score'], index=['restaurant', 'location'], aggfunc=np.mean)\n",
        "df"
      ],
      "execution_count": 33,
      "outputs": [
        {
          "output_type": "execute_result",
          "data": {
            "text/html": [
              "<div>\n",
              "<style scoped>\n",
              "    .dataframe tbody tr th:only-of-type {\n",
              "        vertical-align: middle;\n",
              "    }\n",
              "\n",
              "    .dataframe tbody tr th {\n",
              "        vertical-align: top;\n",
              "    }\n",
              "\n",
              "    .dataframe thead th {\n",
              "        text-align: right;\n",
              "    }\n",
              "</style>\n",
              "<table border=\"1\" class=\"dataframe\">\n",
              "  <thead>\n",
              "    <tr style=\"text-align: right;\">\n",
              "      <th></th>\n",
              "      <th></th>\n",
              "      <th>score</th>\n",
              "    </tr>\n",
              "    <tr>\n",
              "      <th>restaurant</th>\n",
              "      <th>location</th>\n",
              "      <th></th>\n",
              "    </tr>\n",
              "  </thead>\n",
              "  <tbody>\n",
              "    <tr>\n",
              "      <th>Diner</th>\n",
              "      <th>(4, 2)</th>\n",
              "      <td>95.0</td>\n",
              "    </tr>\n",
              "    <tr>\n",
              "      <th>Pandas</th>\n",
              "      <th>(5, 4)</th>\n",
              "      <td>65.5</td>\n",
              "    </tr>\n",
              "  </tbody>\n",
              "</table>\n",
              "</div>"
            ],
            "text/plain": [
              "                     score\n",
              "restaurant location       \n",
              "Diner      (4, 2)     95.0\n",
              "Pandas     (5, 4)     65.5"
            ]
          },
          "metadata": {
            "tags": []
          },
          "execution_count": 33
        }
      ]
    },
    {
      "cell_type": "code",
      "metadata": {
        "colab": {
          "base_uri": "https://localhost:8080/",
          "height": 142
        },
        "id": "m13_T__HR7sG",
        "outputId": "a74dcec3-fbf6-4986-bcae-dae1a97f5e58"
      },
      "source": [
        "df = pd.DataFrame(\n",
        "    [\n",
        "        [\"Diner\", (4, 2), \"02/18\", 90],\n",
        "        [\"Pandas\", (5, 4), \"04/18\", 55],\n",
        "        [\"Diner\", (4, 2), \"05/18\", 100],\n",
        "        [\"Pandas\", (5, 4), \"01/18\", 76],\n",
        "    ],\n",
        "    columns=[\"restaurant\", \"location\", \"date\", \"score\"],\n",
        ").set_index([\"restaurant\", \"location\"])\n",
        "df = df[['score']].groupby(['restaurant', 'location']).mean()\n",
        "df"
      ],
      "execution_count": 39,
      "outputs": [
        {
          "output_type": "execute_result",
          "data": {
            "text/html": [
              "<div>\n",
              "<style scoped>\n",
              "    .dataframe tbody tr th:only-of-type {\n",
              "        vertical-align: middle;\n",
              "    }\n",
              "\n",
              "    .dataframe tbody tr th {\n",
              "        vertical-align: top;\n",
              "    }\n",
              "\n",
              "    .dataframe thead th {\n",
              "        text-align: right;\n",
              "    }\n",
              "</style>\n",
              "<table border=\"1\" class=\"dataframe\">\n",
              "  <thead>\n",
              "    <tr style=\"text-align: right;\">\n",
              "      <th></th>\n",
              "      <th></th>\n",
              "      <th>score</th>\n",
              "    </tr>\n",
              "    <tr>\n",
              "      <th>restaurant</th>\n",
              "      <th>location</th>\n",
              "      <th></th>\n",
              "    </tr>\n",
              "  </thead>\n",
              "  <tbody>\n",
              "    <tr>\n",
              "      <th>Diner</th>\n",
              "      <th>(4, 2)</th>\n",
              "      <td>95.0</td>\n",
              "    </tr>\n",
              "    <tr>\n",
              "      <th>Pandas</th>\n",
              "      <th>(5, 4)</th>\n",
              "      <td>65.5</td>\n",
              "    </tr>\n",
              "  </tbody>\n",
              "</table>\n",
              "</div>"
            ],
            "text/plain": [
              "                     score\n",
              "restaurant location       \n",
              "Diner      (4, 2)     95.0\n",
              "Pandas     (5, 4)     65.5"
            ]
          },
          "metadata": {
            "tags": []
          },
          "execution_count": 39
        }
      ]
    },
    {
      "cell_type": "code",
      "metadata": {
        "colab": {
          "base_uri": "https://localhost:8080/",
          "height": 142
        },
        "id": "fWHnW5IXSZEn",
        "outputId": "ac852909-68fb-4de4-cc99-4306e029f48d"
      },
      "source": [
        "df = pd.DataFrame(\n",
        "    [\n",
        "        [\"02/18\", 90, 1384, 10],\n",
        "        [\"02/25\", 80, 1384, 10],\n",
        "        [\"03/07\", 65, 1384, 10],\n",
        "        [\"03/21\", 60, 1384, 10],\n",
        "        [\"02/18\", 30, 1389, 7],\n",
        "        [\"02/25\", 20, 1389, 7],\n",
        "        [\"03/07\", 25, 1389, 7],\n",
        "        [\"03/21\", 25, 1389, 7],\n",
        "    ],\n",
        "    columns=[\"date\", \"tumor_size\", \"drug\", \"dose\"],\n",
        ")\n",
        "\n",
        "df.pivot(index=\"drug\", columns=\"date\", values=\"tumor_size\")\n"
      ],
      "execution_count": 44,
      "outputs": [
        {
          "output_type": "execute_result",
          "data": {
            "text/html": [
              "<div>\n",
              "<style scoped>\n",
              "    .dataframe tbody tr th:only-of-type {\n",
              "        vertical-align: middle;\n",
              "    }\n",
              "\n",
              "    .dataframe tbody tr th {\n",
              "        vertical-align: top;\n",
              "    }\n",
              "\n",
              "    .dataframe thead th {\n",
              "        text-align: right;\n",
              "    }\n",
              "</style>\n",
              "<table border=\"1\" class=\"dataframe\">\n",
              "  <thead>\n",
              "    <tr style=\"text-align: right;\">\n",
              "      <th>date</th>\n",
              "      <th>02/18</th>\n",
              "      <th>02/25</th>\n",
              "      <th>03/07</th>\n",
              "      <th>03/21</th>\n",
              "    </tr>\n",
              "    <tr>\n",
              "      <th>drug</th>\n",
              "      <th></th>\n",
              "      <th></th>\n",
              "      <th></th>\n",
              "      <th></th>\n",
              "    </tr>\n",
              "  </thead>\n",
              "  <tbody>\n",
              "    <tr>\n",
              "      <th>1384</th>\n",
              "      <td>90</td>\n",
              "      <td>80</td>\n",
              "      <td>65</td>\n",
              "      <td>60</td>\n",
              "    </tr>\n",
              "    <tr>\n",
              "      <th>1389</th>\n",
              "      <td>30</td>\n",
              "      <td>20</td>\n",
              "      <td>25</td>\n",
              "      <td>25</td>\n",
              "    </tr>\n",
              "  </tbody>\n",
              "</table>\n",
              "</div>"
            ],
            "text/plain": [
              "date  02/18  02/25  03/07  03/21\n",
              "drug                            \n",
              "1384     90     80     65     60\n",
              "1389     30     20     25     25"
            ]
          },
          "metadata": {
            "tags": []
          },
          "execution_count": 44
        }
      ]
    },
    {
      "cell_type": "code",
      "metadata": {
        "colab": {
          "base_uri": "https://localhost:8080/",
          "height": 173
        },
        "id": "LIRmLZfpSw7e",
        "outputId": "88bf3f15-e9bb-4d9e-8363-eeb8fc2bc177"
      },
      "source": [
        "# Stack | Unstack or reshape dataframe\n",
        "df = (\n",
        "    pd.DataFrame(\n",
        "        [\n",
        "            [\"Diner\", (4, 2), 0, 90],\n",
        "            [\"Pandas\", (5, 4), 0, 55],\n",
        "            [\"Diner\", (4, 2), 1, 100],\n",
        "            [\"Pandas\", (5, 4), 1, 76],\n",
        "        ],\n",
        "        columns=[\"restaurant\", \"location\", \"inspection\", \"score\"],\n",
        "    )\n",
        "    .set_index([\"restaurant\", \"location\", \"inspection\"])\n",
        "    .unstack()\n",
        ")\n",
        "df"
      ],
      "execution_count": 46,
      "outputs": [
        {
          "output_type": "execute_result",
          "data": {
            "text/html": [
              "<div>\n",
              "<style scoped>\n",
              "    .dataframe tbody tr th:only-of-type {\n",
              "        vertical-align: middle;\n",
              "    }\n",
              "\n",
              "    .dataframe tbody tr th {\n",
              "        vertical-align: top;\n",
              "    }\n",
              "\n",
              "    .dataframe thead tr th {\n",
              "        text-align: left;\n",
              "    }\n",
              "\n",
              "    .dataframe thead tr:last-of-type th {\n",
              "        text-align: right;\n",
              "    }\n",
              "</style>\n",
              "<table border=\"1\" class=\"dataframe\">\n",
              "  <thead>\n",
              "    <tr>\n",
              "      <th></th>\n",
              "      <th></th>\n",
              "      <th colspan=\"2\" halign=\"left\">score</th>\n",
              "    </tr>\n",
              "    <tr>\n",
              "      <th></th>\n",
              "      <th>inspection</th>\n",
              "      <th>0</th>\n",
              "      <th>1</th>\n",
              "    </tr>\n",
              "    <tr>\n",
              "      <th>restaurant</th>\n",
              "      <th>location</th>\n",
              "      <th></th>\n",
              "      <th></th>\n",
              "    </tr>\n",
              "  </thead>\n",
              "  <tbody>\n",
              "    <tr>\n",
              "      <th>Diner</th>\n",
              "      <th>(4, 2)</th>\n",
              "      <td>90</td>\n",
              "      <td>100</td>\n",
              "    </tr>\n",
              "    <tr>\n",
              "      <th>Pandas</th>\n",
              "      <th>(5, 4)</th>\n",
              "      <td>55</td>\n",
              "      <td>76</td>\n",
              "    </tr>\n",
              "  </tbody>\n",
              "</table>\n",
              "</div>"
            ],
            "text/plain": [
              "                    score     \n",
              "inspection              0    1\n",
              "restaurant location           \n",
              "Diner      (4, 2)      90  100\n",
              "Pandas     (5, 4)      55   76"
            ]
          },
          "metadata": {
            "tags": []
          },
          "execution_count": 46
        }
      ]
    },
    {
      "cell_type": "code",
      "metadata": {
        "colab": {
          "base_uri": "https://localhost:8080/",
          "height": 173
        },
        "id": "xtuI7DxxTIk3",
        "outputId": "f5d5e286-e26d-49a3-9263-f379b83266e7"
      },
      "source": [
        "df = df.stack().reset_index()\n",
        "df"
      ],
      "execution_count": 47,
      "outputs": [
        {
          "output_type": "execute_result",
          "data": {
            "text/html": [
              "<div>\n",
              "<style scoped>\n",
              "    .dataframe tbody tr th:only-of-type {\n",
              "        vertical-align: middle;\n",
              "    }\n",
              "\n",
              "    .dataframe tbody tr th {\n",
              "        vertical-align: top;\n",
              "    }\n",
              "\n",
              "    .dataframe thead th {\n",
              "        text-align: right;\n",
              "    }\n",
              "</style>\n",
              "<table border=\"1\" class=\"dataframe\">\n",
              "  <thead>\n",
              "    <tr style=\"text-align: right;\">\n",
              "      <th></th>\n",
              "      <th>restaurant</th>\n",
              "      <th>location</th>\n",
              "      <th>inspection</th>\n",
              "      <th>score</th>\n",
              "    </tr>\n",
              "  </thead>\n",
              "  <tbody>\n",
              "    <tr>\n",
              "      <th>0</th>\n",
              "      <td>Diner</td>\n",
              "      <td>(4, 2)</td>\n",
              "      <td>0</td>\n",
              "      <td>90</td>\n",
              "    </tr>\n",
              "    <tr>\n",
              "      <th>1</th>\n",
              "      <td>Diner</td>\n",
              "      <td>(4, 2)</td>\n",
              "      <td>1</td>\n",
              "      <td>100</td>\n",
              "    </tr>\n",
              "    <tr>\n",
              "      <th>2</th>\n",
              "      <td>Pandas</td>\n",
              "      <td>(5, 4)</td>\n",
              "      <td>0</td>\n",
              "      <td>55</td>\n",
              "    </tr>\n",
              "    <tr>\n",
              "      <th>3</th>\n",
              "      <td>Pandas</td>\n",
              "      <td>(5, 4)</td>\n",
              "      <td>1</td>\n",
              "      <td>76</td>\n",
              "    </tr>\n",
              "  </tbody>\n",
              "</table>\n",
              "</div>"
            ],
            "text/plain": [
              "  restaurant location  inspection  score\n",
              "0      Diner   (4, 2)           0     90\n",
              "1      Diner   (4, 2)           1    100\n",
              "2     Pandas   (5, 4)           0     55\n",
              "3     Pandas   (5, 4)           1     76"
            ]
          },
          "metadata": {
            "tags": []
          },
          "execution_count": 47
        }
      ]
    },
    {
      "cell_type": "code",
      "metadata": {
        "colab": {
          "base_uri": "https://localhost:8080/",
          "height": 204
        },
        "id": "fADIJ45CTNwn",
        "outputId": "ed3bf182-f781-4581-d93f-c35178b7bbf5"
      },
      "source": [
        "df.drop(columns=['inspection'], inplace = True)\n",
        "df.set_index(['restaurant', 'location'], inplace = True)\n",
        "df"
      ],
      "execution_count": 49,
      "outputs": [
        {
          "output_type": "execute_result",
          "data": {
            "text/html": [
              "<div>\n",
              "<style scoped>\n",
              "    .dataframe tbody tr th:only-of-type {\n",
              "        vertical-align: middle;\n",
              "    }\n",
              "\n",
              "    .dataframe tbody tr th {\n",
              "        vertical-align: top;\n",
              "    }\n",
              "\n",
              "    .dataframe thead th {\n",
              "        text-align: right;\n",
              "    }\n",
              "</style>\n",
              "<table border=\"1\" class=\"dataframe\">\n",
              "  <thead>\n",
              "    <tr style=\"text-align: right;\">\n",
              "      <th></th>\n",
              "      <th></th>\n",
              "      <th>score</th>\n",
              "    </tr>\n",
              "    <tr>\n",
              "      <th>restaurant</th>\n",
              "      <th>location</th>\n",
              "      <th></th>\n",
              "    </tr>\n",
              "  </thead>\n",
              "  <tbody>\n",
              "    <tr>\n",
              "      <th rowspan=\"2\" valign=\"top\">Diner</th>\n",
              "      <th>(4, 2)</th>\n",
              "      <td>90</td>\n",
              "    </tr>\n",
              "    <tr>\n",
              "      <th>(4, 2)</th>\n",
              "      <td>100</td>\n",
              "    </tr>\n",
              "    <tr>\n",
              "      <th rowspan=\"2\" valign=\"top\">Pandas</th>\n",
              "      <th>(5, 4)</th>\n",
              "      <td>55</td>\n",
              "    </tr>\n",
              "    <tr>\n",
              "      <th>(5, 4)</th>\n",
              "      <td>76</td>\n",
              "    </tr>\n",
              "  </tbody>\n",
              "</table>\n",
              "</div>"
            ],
            "text/plain": [
              "                     score\n",
              "restaurant location       \n",
              "Diner      (4, 2)       90\n",
              "           (4, 2)      100\n",
              "Pandas     (5, 4)       55\n",
              "           (5, 4)       76"
            ]
          },
          "metadata": {
            "tags": []
          },
          "execution_count": 49
        }
      ]
    },
    {
      "cell_type": "code",
      "metadata": {
        "colab": {
          "base_uri": "https://localhost:8080/"
        },
        "id": "i7ScppF3TaSv",
        "outputId": "499a5ca9-2273-4d73-e7cf-bfe80ddb1272"
      },
      "source": [
        "df = pd.DataFrame(\n",
        "    [\n",
        "        [\"Diner\", (4, 2), 90],\n",
        "        [\"Pandas\", (5, 4), 55],\n",
        "        [\"Diner\", (4, 2), 100],\n",
        "        [\"Pandas\", (5, 4), 76],\n",
        "    ],\n",
        "    columns=[\"restaurant\", \"location\", \"score\"],\n",
        ").set_index([\"restaurant\", \"location\"])\n",
        "\n",
        "print(df)\n",
        "df[\"inspection\"] = df.groupby([\"restaurant\", \"location\"]).cumcount()\n",
        "df.set_index(\"inspection\", append=True, inplace=True)\n",
        "\n",
        "print(df)\n",
        "df = df.unstack()\n",
        "print(df)"
      ],
      "execution_count": 50,
      "outputs": [
        {
          "output_type": "stream",
          "text": [
            "                     score\n",
            "restaurant location       \n",
            "Diner      (4, 2)       90\n",
            "Pandas     (5, 4)       55\n",
            "Diner      (4, 2)      100\n",
            "Pandas     (5, 4)       76\n",
            "                                score\n",
            "restaurant location inspection       \n",
            "Diner      (4, 2)   0              90\n",
            "Pandas     (5, 4)   0              55\n",
            "Diner      (4, 2)   1             100\n",
            "Pandas     (5, 4)   1              76\n",
            "                    score     \n",
            "inspection              0    1\n",
            "restaurant location           \n",
            "Diner      (4, 2)      90  100\n",
            "Pandas     (5, 4)      55   76\n"
          ],
          "name": "stdout"
        }
      ]
    },
    {
      "cell_type": "code",
      "metadata": {
        "colab": {
          "base_uri": "https://localhost:8080/"
        },
        "id": "EkiSTZB6Ti5f",
        "outputId": "67f366a1-04e5-41da-8b47-23308fd93cb8"
      },
      "source": [
        "# Melt dataframe\n",
        "\n",
        "df = pd.DataFrame(\n",
        "    [[\"Diner\", (4, 2), 90, 100], [\"Pandas\", (5, 4), 55, 76]],\n",
        "    columns=[\"restaurant\", \"location\", 0, 1],\n",
        ")\n",
        "\n",
        "print(df)\n",
        "df = df.melt(\n",
        "    id_vars=[\"restaurant\", \"location\"], value_vars=[0, 1], value_name=\"score\"\n",
        ").drop(columns=\"variable\")\n",
        "print(df)"
      ],
      "execution_count": 51,
      "outputs": [
        {
          "output_type": "stream",
          "text": [
            "  restaurant location   0    1\n",
            "0      Diner   (4, 2)  90  100\n",
            "1     Pandas   (5, 4)  55   76\n",
            "  restaurant location  score\n",
            "0      Diner   (4, 2)     90\n",
            "1     Pandas   (5, 4)     55\n",
            "2      Diner   (4, 2)    100\n",
            "3     Pandas   (5, 4)     76\n"
          ],
          "name": "stdout"
        }
      ]
    },
    {
      "cell_type": "code",
      "metadata": {
        "colab": {
          "base_uri": "https://localhost:8080/"
        },
        "id": "VBOERseJUuIW",
        "outputId": "6aeac44e-3e83-4153-8a06-c0e9eb7b8f64"
      },
      "source": [
        "# Transpose dataframe\n",
        "\n",
        "patient_list = pd.DataFrame(\n",
        "    [[\"O+\", 2394, \"hbp\"], [\"B+\", 2312, np.nan], [\"O-\", 23409, \"lbp\"]],\n",
        "    columns=[\"blood_type\", \"id\", \"history\"],\n",
        ").set_index([\"blood_type\"])\n",
        "\n",
        "drug_table = pd.DataFrame(\n",
        "    [\n",
        "        [\"ADF\", \"ADF\", \"ACB\", \"DCB\", \"ACE\", \"BAB\"],\n",
        "        [\"GCB\", \"RAB\", \"DF\", \"EFR\", np.nan, \"HEF\"],\n",
        "        [\"RAB\", np.nan, np.nan, np.nan, np.nan, np.nan],\n",
        "    ],\n",
        "    columns=[\"O+\", \"O-\", \"A+\", \"A-\", \"B+\", \"B-\"],\n",
        ")\n",
        "\n",
        "print(patient_list)\n",
        "print(drug_table)\n",
        "drug_table = drug_table.transpose(copy=False)\n",
        "print(drug_table)\n",
        "print(patient_list.join(drug_table))"
      ],
      "execution_count": 52,
      "outputs": [
        {
          "output_type": "stream",
          "text": [
            "               id history\n",
            "blood_type               \n",
            "O+           2394     hbp\n",
            "B+           2312     NaN\n",
            "O-          23409     lbp\n",
            "    O+   O-   A+   A-   B+   B-\n",
            "0  ADF  ADF  ACB  DCB  ACE  BAB\n",
            "1  GCB  RAB   DF  EFR  NaN  HEF\n",
            "2  RAB  NaN  NaN  NaN  NaN  NaN\n",
            "      0    1    2\n",
            "O+  ADF  GCB  RAB\n",
            "O-  ADF  RAB  NaN\n",
            "A+  ACB   DF  NaN\n",
            "A-  DCB  EFR  NaN\n",
            "B+  ACE  NaN  NaN\n",
            "B-  BAB  HEF  NaN\n",
            "               id history    0    1    2\n",
            "blood_type                              \n",
            "O+           2394     hbp  ADF  GCB  RAB\n",
            "B+           2312     NaN  ACE  NaN  NaN\n",
            "O-          23409     lbp  ADF  RAB  NaN\n"
          ],
          "name": "stdout"
        }
      ]
    },
    {
      "cell_type": "code",
      "metadata": {
        "colab": {
          "base_uri": "https://localhost:8080/"
        },
        "id": "LzF_w1bNU2Y-",
        "outputId": "d3724c1c-2cae-4e99-ec9c-ea95d5ad68d9"
      },
      "source": [
        "# The apply method\n",
        "df = pd.DataFrame({\"a\": [0, 1, 2, 3], \"b\": [0, 1, 2, 3]})\n",
        "\n",
        "df.sum(axis=1)"
      ],
      "execution_count": 53,
      "outputs": [
        {
          "output_type": "execute_result",
          "data": {
            "text/plain": [
              "0    0\n",
              "1    2\n",
              "2    4\n",
              "3    6\n",
              "dtype: int64"
            ]
          },
          "metadata": {
            "tags": []
          },
          "execution_count": 53
        }
      ]
    },
    {
      "cell_type": "code",
      "metadata": {
        "colab": {
          "base_uri": "https://localhost:8080/",
          "height": 173
        },
        "id": "kArWTDYtV8IG",
        "outputId": "b41e0857-e65c-47e5-f573-585098faf25a"
      },
      "source": [
        "df = pd.DataFrame({\"A\": [0, np.nan, np.nan, 4], \"B\": [0, 1, 2, 3], \"C\": [0, 4, 1, 5]})\n",
        "\n",
        "\n",
        "def replace_missing(series):\n",
        "    if np.isnan(series[\"A\"]):\n",
        "        series[\"A\"] = max(series[\"B\"], series[\"C\"])\n",
        "    return series\n",
        "\n",
        "\n",
        "df = df.apply(replace_missing, axis=1)\n",
        "df"
      ],
      "execution_count": 55,
      "outputs": [
        {
          "output_type": "execute_result",
          "data": {
            "text/html": [
              "<div>\n",
              "<style scoped>\n",
              "    .dataframe tbody tr th:only-of-type {\n",
              "        vertical-align: middle;\n",
              "    }\n",
              "\n",
              "    .dataframe tbody tr th {\n",
              "        vertical-align: top;\n",
              "    }\n",
              "\n",
              "    .dataframe thead th {\n",
              "        text-align: right;\n",
              "    }\n",
              "</style>\n",
              "<table border=\"1\" class=\"dataframe\">\n",
              "  <thead>\n",
              "    <tr style=\"text-align: right;\">\n",
              "      <th></th>\n",
              "      <th>A</th>\n",
              "      <th>B</th>\n",
              "      <th>C</th>\n",
              "    </tr>\n",
              "  </thead>\n",
              "  <tbody>\n",
              "    <tr>\n",
              "      <th>0</th>\n",
              "      <td>0.0</td>\n",
              "      <td>0.0</td>\n",
              "      <td>0.0</td>\n",
              "    </tr>\n",
              "    <tr>\n",
              "      <th>1</th>\n",
              "      <td>4.0</td>\n",
              "      <td>1.0</td>\n",
              "      <td>4.0</td>\n",
              "    </tr>\n",
              "    <tr>\n",
              "      <th>2</th>\n",
              "      <td>2.0</td>\n",
              "      <td>2.0</td>\n",
              "      <td>1.0</td>\n",
              "    </tr>\n",
              "    <tr>\n",
              "      <th>3</th>\n",
              "      <td>4.0</td>\n",
              "      <td>3.0</td>\n",
              "      <td>5.0</td>\n",
              "    </tr>\n",
              "  </tbody>\n",
              "</table>\n",
              "</div>"
            ],
            "text/plain": [
              "     A    B    C\n",
              "0  0.0  0.0  0.0\n",
              "1  4.0  1.0  4.0\n",
              "2  2.0  2.0  1.0\n",
              "3  4.0  3.0  5.0"
            ]
          },
          "metadata": {
            "tags": []
          },
          "execution_count": 55
        }
      ]
    },
    {
      "cell_type": "code",
      "metadata": {
        "colab": {
          "base_uri": "https://localhost:8080/",
          "height": 173
        },
        "id": "-Rxo7R3RWENw",
        "outputId": "eddb3f6b-646d-47b1-fe4e-1738f63fb2c2"
      },
      "source": [
        "df = pd.DataFrame({\"A\": [0, np.nan, np.nan, 4], \"B\": [0, 1, 2, 3], \"C\": [0, 4, 1, 5]})\n",
        "\n",
        "df[\"A\"].where(~df[\"A\"].isna(), df[[\"B\", \"C\"]].max(axis=1), inplace=True)\n",
        "df"
      ],
      "execution_count": 57,
      "outputs": [
        {
          "output_type": "execute_result",
          "data": {
            "text/html": [
              "<div>\n",
              "<style scoped>\n",
              "    .dataframe tbody tr th:only-of-type {\n",
              "        vertical-align: middle;\n",
              "    }\n",
              "\n",
              "    .dataframe tbody tr th {\n",
              "        vertical-align: top;\n",
              "    }\n",
              "\n",
              "    .dataframe thead th {\n",
              "        text-align: right;\n",
              "    }\n",
              "</style>\n",
              "<table border=\"1\" class=\"dataframe\">\n",
              "  <thead>\n",
              "    <tr style=\"text-align: right;\">\n",
              "      <th></th>\n",
              "      <th>A</th>\n",
              "      <th>B</th>\n",
              "      <th>C</th>\n",
              "    </tr>\n",
              "  </thead>\n",
              "  <tbody>\n",
              "    <tr>\n",
              "      <th>0</th>\n",
              "      <td>0.0</td>\n",
              "      <td>0</td>\n",
              "      <td>0</td>\n",
              "    </tr>\n",
              "    <tr>\n",
              "      <th>1</th>\n",
              "      <td>4.0</td>\n",
              "      <td>1</td>\n",
              "      <td>4</td>\n",
              "    </tr>\n",
              "    <tr>\n",
              "      <th>2</th>\n",
              "      <td>2.0</td>\n",
              "      <td>2</td>\n",
              "      <td>1</td>\n",
              "    </tr>\n",
              "    <tr>\n",
              "      <th>3</th>\n",
              "      <td>4.0</td>\n",
              "      <td>3</td>\n",
              "      <td>5</td>\n",
              "    </tr>\n",
              "  </tbody>\n",
              "</table>\n",
              "</div>"
            ],
            "text/plain": [
              "     A  B  C\n",
              "0  0.0  0  0\n",
              "1  4.0  1  4\n",
              "2  2.0  2  1\n",
              "3  4.0  3  5"
            ]
          },
          "metadata": {
            "tags": []
          },
          "execution_count": 57
        }
      ]
    },
    {
      "cell_type": "code",
      "metadata": {
        "colab": {
          "base_uri": "https://localhost:8080/"
        },
        "id": "DzkQt_2SWNT-",
        "outputId": "b14a3e38-10ed-4593-a4f8-4e78093a8ada"
      },
      "source": [
        "def test_fruit_in_order(series):\n",
        "    if series[\"fruit\"].lower() in series[\"order\"].lower():\n",
        "        return series\n",
        "    return np.nan\n",
        "\n",
        "\n",
        "data = pd.DataFrame(\n",
        "    {\n",
        "        \"fruit\": [\"orange\", \"lemon\", \"mango\"],\n",
        "        \"order\": [\"I'd like an orange\", \"Mango please.\", \"May I have a mango?\"],\n",
        "    }\n",
        ")\n",
        "\n",
        "print(data)\n",
        "print(data.apply(test_fruit_in_order, axis=1, result_type=\"reduce\").dropna())"
      ],
      "execution_count": 58,
      "outputs": [
        {
          "output_type": "stream",
          "text": [
            "    fruit                order\n",
            "0  orange   I'd like an orange\n",
            "1   lemon        Mango please.\n",
            "2   mango  May I have a mango?\n",
            "    fruit                order\n",
            "0  orange   I'd like an orange\n",
            "2   mango  May I have a mango?\n"
          ],
          "name": "stdout"
        }
      ]
    },
    {
      "cell_type": "code",
      "metadata": {
        "id": "D7y10CtTWR_e"
      },
      "source": [
        ""
      ],
      "execution_count": null,
      "outputs": []
    }
  ]
}