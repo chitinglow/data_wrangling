{
  "nbformat": 4,
  "nbformat_minor": 0,
  "metadata": {
    "colab": {
      "name": "data_wrangling.ipynb",
      "provenance": [],
      "collapsed_sections": [],
      "authorship_tag": "ABX9TyP0yjyNa21OpbvtV++MkBg6",
      "include_colab_link": true
    },
    "kernelspec": {
      "name": "python3",
      "display_name": "Python 3"
    },
    "language_info": {
      "name": "python"
    }
  },
  "cells": [
    {
      "cell_type": "markdown",
      "metadata": {
        "id": "view-in-github",
        "colab_type": "text"
      },
      "source": [
        "<a href=\"https://colab.research.google.com/github/chitinglow/data_wrangling/blob/main/data_wrangling.ipynb\" target=\"_parent\"><img src=\"https://colab.research.google.com/assets/colab-badge.svg\" alt=\"Open In Colab\"/></a>"
      ]
    },
    {
      "cell_type": "code",
      "metadata": {
        "colab": {
          "base_uri": "https://localhost:8080/"
        },
        "id": "vuRR94w3O2gs",
        "outputId": "44dc30e4-c0a8-4349-e500-61f63f053c72"
      },
      "source": [
        "import pandas as pd\n",
        "ssn = list(pd.read_csv(\"https://raw.githubusercontent.com/PacktWorkshops/The-Data-Wrangling-Workshop/master/Chapter01/datasets/ssn.csv\"))\n",
        "ssn"
      ],
      "execution_count": 3,
      "outputs": [
        {
          "output_type": "execute_result",
          "data": {
            "text/plain": [
              "['218-68-9955',\n",
              " '165-73-3124',\n",
              " '432-47-4043',\n",
              " '563-93-1393',\n",
              " '153-93-3401',\n",
              " '670-09-7369',\n",
              " '123-05-9652',\n",
              " '812-13-2476',\n",
              " '726-13-1007',\n",
              " '825-05-4836']"
            ]
          },
          "metadata": {
            "tags": []
          },
          "execution_count": 3
        }
      ]
    },
    {
      "cell_type": "code",
      "metadata": {
        "colab": {
          "base_uri": "https://localhost:8080/",
          "height": 35
        },
        "id": "19D7cBdgSeVN",
        "outputId": "f5a271ee-cc07-485b-e604-84a233cd032d"
      },
      "source": [
        "ssn[0]"
      ],
      "execution_count": 4,
      "outputs": [
        {
          "output_type": "execute_result",
          "data": {
            "application/vnd.google.colaboratory.intrinsic+json": {
              "type": "string"
            },
            "text/plain": [
              "'218-68-9955'"
            ]
          },
          "metadata": {
            "tags": []
          },
          "execution_count": 4
        }
      ]
    },
    {
      "cell_type": "code",
      "metadata": {
        "colab": {
          "base_uri": "https://localhost:8080/",
          "height": 35
        },
        "id": "hhGiW_43Sk6W",
        "outputId": "c100ebbf-b9ba-4e3d-f3fe-df2018310e53"
      },
      "source": [
        "ssn[3]"
      ],
      "execution_count": 5,
      "outputs": [
        {
          "output_type": "execute_result",
          "data": {
            "application/vnd.google.colaboratory.intrinsic+json": {
              "type": "string"
            },
            "text/plain": [
              "'563-93-1393'"
            ]
          },
          "metadata": {
            "tags": []
          },
          "execution_count": 5
        }
      ]
    },
    {
      "cell_type": "code",
      "metadata": {
        "colab": {
          "base_uri": "https://localhost:8080/",
          "height": 35
        },
        "id": "v_Y2CAtTSrtr",
        "outputId": "53a46f2d-c288-4273-a126-575f67bf1aca"
      },
      "source": [
        "ssn[len(ssn)-1]\n",
        "ssn[-1]"
      ],
      "execution_count": 8,
      "outputs": [
        {
          "output_type": "execute_result",
          "data": {
            "application/vnd.google.colaboratory.intrinsic+json": {
              "type": "string"
            },
            "text/plain": [
              "'825-05-4836'"
            ]
          },
          "metadata": {
            "tags": []
          },
          "execution_count": 8
        }
      ]
    },
    {
      "cell_type": "code",
      "metadata": {
        "colab": {
          "base_uri": "https://localhost:8080/"
        },
        "id": "YihBbm75Su97",
        "outputId": "f453aaad-0d80-4ff5-c953-afd80481fb1d"
      },
      "source": [
        "ssn[1:3]"
      ],
      "execution_count": 9,
      "outputs": [
        {
          "output_type": "execute_result",
          "data": {
            "text/plain": [
              "['165-73-3124', '432-47-4043']"
            ]
          },
          "metadata": {
            "tags": []
          },
          "execution_count": 9
        }
      ]
    },
    {
      "cell_type": "code",
      "metadata": {
        "colab": {
          "base_uri": "https://localhost:8080/"
        },
        "id": "_ax-VTxMS4Ud",
        "outputId": "1faee221-56a8-4dc3-cf9a-12367eae03a1"
      },
      "source": [
        "ssn[-2:]"
      ],
      "execution_count": 10,
      "outputs": [
        {
          "output_type": "execute_result",
          "data": {
            "text/plain": [
              "['726-13-1007', '825-05-4836']"
            ]
          },
          "metadata": {
            "tags": []
          },
          "execution_count": 10
        }
      ]
    },
    {
      "cell_type": "code",
      "metadata": {
        "colab": {
          "base_uri": "https://localhost:8080/"
        },
        "id": "3ISKLjOAS5rz",
        "outputId": "dbcadb4c-db2a-46ab-e732-d39735cf9ede"
      },
      "source": [
        "ssn[:-2]"
      ],
      "execution_count": 11,
      "outputs": [
        {
          "output_type": "execute_result",
          "data": {
            "text/plain": [
              "['218-68-9955',\n",
              " '165-73-3124',\n",
              " '432-47-4043',\n",
              " '563-93-1393',\n",
              " '153-93-3401',\n",
              " '670-09-7369',\n",
              " '123-05-9652',\n",
              " '812-13-2476']"
            ]
          },
          "metadata": {
            "tags": []
          },
          "execution_count": 11
        }
      ]
    },
    {
      "cell_type": "code",
      "metadata": {
        "colab": {
          "base_uri": "https://localhost:8080/"
        },
        "id": "M58PdcV6S75H",
        "outputId": "ea10120f-bd31-4354-bb12-c0d20c33562a"
      },
      "source": [
        "ssn[-1::-1]"
      ],
      "execution_count": 12,
      "outputs": [
        {
          "output_type": "execute_result",
          "data": {
            "text/plain": [
              "['825-05-4836',\n",
              " '726-13-1007',\n",
              " '812-13-2476',\n",
              " '123-05-9652',\n",
              " '670-09-7369',\n",
              " '153-93-3401',\n",
              " '563-93-1393',\n",
              " '432-47-4043',\n",
              " '165-73-3124',\n",
              " '218-68-9955']"
            ]
          },
          "metadata": {
            "tags": []
          },
          "execution_count": 12
        }
      ]
    },
    {
      "cell_type": "code",
      "metadata": {
        "colab": {
          "base_uri": "https://localhost:8080/"
        },
        "id": "O46g3ASKTB4e",
        "outputId": "e69437f1-2aef-4cf0-e09c-b42234351c64"
      },
      "source": [
        "# Generating and iterating through a list\n",
        "ssn_2 = []\n",
        "for x in ssn:\n",
        "  ssn_2.append(x)\n",
        "\n",
        "ssn_2"
      ],
      "execution_count": 13,
      "outputs": [
        {
          "output_type": "execute_result",
          "data": {
            "text/plain": [
              "['218-68-9955',\n",
              " '165-73-3124',\n",
              " '432-47-4043',\n",
              " '563-93-1393',\n",
              " '153-93-3401',\n",
              " '670-09-7369',\n",
              " '123-05-9652',\n",
              " '812-13-2476',\n",
              " '726-13-1007',\n",
              " '825-05-4836']"
            ]
          },
          "metadata": {
            "tags": []
          },
          "execution_count": 13
        }
      ]
    },
    {
      "cell_type": "code",
      "metadata": {
        "colab": {
          "base_uri": "https://localhost:8080/"
        },
        "id": "WCiU1cKeTMf1",
        "outputId": "cf67b9b1-1605-4405-e0b0-e47468ba9127"
      },
      "source": [
        "ssn_3 = [\"soc: \" + x for x in ssn_2]\n",
        "ssn_3"
      ],
      "execution_count": 14,
      "outputs": [
        {
          "output_type": "execute_result",
          "data": {
            "text/plain": [
              "['soc: 218-68-9955',\n",
              " 'soc: 165-73-3124',\n",
              " 'soc: 432-47-4043',\n",
              " 'soc: 563-93-1393',\n",
              " 'soc: 153-93-3401',\n",
              " 'soc: 670-09-7369',\n",
              " 'soc: 123-05-9652',\n",
              " 'soc: 812-13-2476',\n",
              " 'soc: 726-13-1007',\n",
              " 'soc: 825-05-4836']"
            ]
          },
          "metadata": {
            "tags": []
          },
          "execution_count": 14
        }
      ]
    },
    {
      "cell_type": "code",
      "metadata": {
        "colab": {
          "base_uri": "https://localhost:8080/"
        },
        "id": "wjOW1ddpT7gh",
        "outputId": "0667314f-90bb-4abd-8599-83cc4ca79900"
      },
      "source": [
        "i = 0\n",
        "while i < len(ssn_3):\n",
        "  print(ssn_3[i])\n",
        "  i += 1"
      ],
      "execution_count": 15,
      "outputs": [
        {
          "output_type": "stream",
          "text": [
            "soc: 218-68-9955\n",
            "soc: 165-73-3124\n",
            "soc: 432-47-4043\n",
            "soc: 563-93-1393\n",
            "soc: 153-93-3401\n",
            "soc: 670-09-7369\n",
            "soc: 123-05-9652\n",
            "soc: 812-13-2476\n",
            "soc: 726-13-1007\n",
            "soc: 825-05-4836\n"
          ],
          "name": "stdout"
        }
      ]
    },
    {
      "cell_type": "code",
      "metadata": {
        "colab": {
          "base_uri": "https://localhost:8080/"
        },
        "id": "iCpy0ovJUDVw",
        "outputId": "e6c3e453-a6b6-41a9-8dd7-8249e76c919d"
      },
      "source": [
        "numbers = [x for x in ssn_3 if \"5\" in x]\n",
        "numbers"
      ],
      "execution_count": 16,
      "outputs": [
        {
          "output_type": "execute_result",
          "data": {
            "text/plain": [
              "['soc: 218-68-9955',\n",
              " 'soc: 165-73-3124',\n",
              " 'soc: 563-93-1393',\n",
              " 'soc: 153-93-3401',\n",
              " 'soc: 123-05-9652',\n",
              " 'soc: 825-05-4836']"
            ]
          },
          "metadata": {
            "tags": []
          },
          "execution_count": 16
        }
      ]
    },
    {
      "cell_type": "code",
      "metadata": {
        "colab": {
          "base_uri": "https://localhost:8080/"
        },
        "id": "xjTTwFCpUMvE",
        "outputId": "b58ff59c-ac0a-4cde-d617-68e5e4544b58"
      },
      "source": [
        "ssn_4 = [\"102-90-0314\" , \"247-17-2338\" , \"318-22-2760\"]\n",
        "ssn_5 = ssn_4 + ssn\n",
        "ssn_5"
      ],
      "execution_count": 17,
      "outputs": [
        {
          "output_type": "execute_result",
          "data": {
            "text/plain": [
              "['102-90-0314',\n",
              " '247-17-2338',\n",
              " '318-22-2760',\n",
              " '218-68-9955',\n",
              " '165-73-3124',\n",
              " '432-47-4043',\n",
              " '563-93-1393',\n",
              " '153-93-3401',\n",
              " '670-09-7369',\n",
              " '123-05-9652',\n",
              " '812-13-2476',\n",
              " '726-13-1007',\n",
              " '825-05-4836']"
            ]
          },
          "metadata": {
            "tags": []
          },
          "execution_count": 17
        }
      ]
    },
    {
      "cell_type": "code",
      "metadata": {
        "colab": {
          "base_uri": "https://localhost:8080/"
        },
        "id": "_-HTJvagUVur",
        "outputId": "95f8897c-978c-45b7-c559-41a49e1424d8"
      },
      "source": [
        "ssn_2.extend(ssn_4)\n",
        "ssn_2"
      ],
      "execution_count": 18,
      "outputs": [
        {
          "output_type": "execute_result",
          "data": {
            "text/plain": [
              "['218-68-9955',\n",
              " '165-73-3124',\n",
              " '432-47-4043',\n",
              " '563-93-1393',\n",
              " '153-93-3401',\n",
              " '670-09-7369',\n",
              " '123-05-9652',\n",
              " '812-13-2476',\n",
              " '726-13-1007',\n",
              " '825-05-4836',\n",
              " '102-90-0314',\n",
              " '247-17-2338',\n",
              " '318-22-2760']"
            ]
          },
          "metadata": {
            "tags": []
          },
          "execution_count": 18
        }
      ]
    },
    {
      "cell_type": "code",
      "metadata": {
        "colab": {
          "base_uri": "https://localhost:8080/"
        },
        "id": "4fqtd5AJUYIX",
        "outputId": "4b2cf12f-1466-4948-d6a1-53b651b737be"
      },
      "source": [
        "for x in ssn_2:\n",
        "  for y in ssn_5:\n",
        "    print(str(x) + ',' + str(y))"
      ],
      "execution_count": 19,
      "outputs": [
        {
          "output_type": "stream",
          "text": [
            "218-68-9955,102-90-0314\n",
            "218-68-9955,247-17-2338\n",
            "218-68-9955,318-22-2760\n",
            "218-68-9955,218-68-9955\n",
            "218-68-9955,165-73-3124\n",
            "218-68-9955,432-47-4043\n",
            "218-68-9955,563-93-1393\n",
            "218-68-9955,153-93-3401\n",
            "218-68-9955,670-09-7369\n",
            "218-68-9955,123-05-9652\n",
            "218-68-9955,812-13-2476\n",
            "218-68-9955,726-13-1007\n",
            "218-68-9955,825-05-4836\n",
            "165-73-3124,102-90-0314\n",
            "165-73-3124,247-17-2338\n",
            "165-73-3124,318-22-2760\n",
            "165-73-3124,218-68-9955\n",
            "165-73-3124,165-73-3124\n",
            "165-73-3124,432-47-4043\n",
            "165-73-3124,563-93-1393\n",
            "165-73-3124,153-93-3401\n",
            "165-73-3124,670-09-7369\n",
            "165-73-3124,123-05-9652\n",
            "165-73-3124,812-13-2476\n",
            "165-73-3124,726-13-1007\n",
            "165-73-3124,825-05-4836\n",
            "432-47-4043,102-90-0314\n",
            "432-47-4043,247-17-2338\n",
            "432-47-4043,318-22-2760\n",
            "432-47-4043,218-68-9955\n",
            "432-47-4043,165-73-3124\n",
            "432-47-4043,432-47-4043\n",
            "432-47-4043,563-93-1393\n",
            "432-47-4043,153-93-3401\n",
            "432-47-4043,670-09-7369\n",
            "432-47-4043,123-05-9652\n",
            "432-47-4043,812-13-2476\n",
            "432-47-4043,726-13-1007\n",
            "432-47-4043,825-05-4836\n",
            "563-93-1393,102-90-0314\n",
            "563-93-1393,247-17-2338\n",
            "563-93-1393,318-22-2760\n",
            "563-93-1393,218-68-9955\n",
            "563-93-1393,165-73-3124\n",
            "563-93-1393,432-47-4043\n",
            "563-93-1393,563-93-1393\n",
            "563-93-1393,153-93-3401\n",
            "563-93-1393,670-09-7369\n",
            "563-93-1393,123-05-9652\n",
            "563-93-1393,812-13-2476\n",
            "563-93-1393,726-13-1007\n",
            "563-93-1393,825-05-4836\n",
            "153-93-3401,102-90-0314\n",
            "153-93-3401,247-17-2338\n",
            "153-93-3401,318-22-2760\n",
            "153-93-3401,218-68-9955\n",
            "153-93-3401,165-73-3124\n",
            "153-93-3401,432-47-4043\n",
            "153-93-3401,563-93-1393\n",
            "153-93-3401,153-93-3401\n",
            "153-93-3401,670-09-7369\n",
            "153-93-3401,123-05-9652\n",
            "153-93-3401,812-13-2476\n",
            "153-93-3401,726-13-1007\n",
            "153-93-3401,825-05-4836\n",
            "670-09-7369,102-90-0314\n",
            "670-09-7369,247-17-2338\n",
            "670-09-7369,318-22-2760\n",
            "670-09-7369,218-68-9955\n",
            "670-09-7369,165-73-3124\n",
            "670-09-7369,432-47-4043\n",
            "670-09-7369,563-93-1393\n",
            "670-09-7369,153-93-3401\n",
            "670-09-7369,670-09-7369\n",
            "670-09-7369,123-05-9652\n",
            "670-09-7369,812-13-2476\n",
            "670-09-7369,726-13-1007\n",
            "670-09-7369,825-05-4836\n",
            "123-05-9652,102-90-0314\n",
            "123-05-9652,247-17-2338\n",
            "123-05-9652,318-22-2760\n",
            "123-05-9652,218-68-9955\n",
            "123-05-9652,165-73-3124\n",
            "123-05-9652,432-47-4043\n",
            "123-05-9652,563-93-1393\n",
            "123-05-9652,153-93-3401\n",
            "123-05-9652,670-09-7369\n",
            "123-05-9652,123-05-9652\n",
            "123-05-9652,812-13-2476\n",
            "123-05-9652,726-13-1007\n",
            "123-05-9652,825-05-4836\n",
            "812-13-2476,102-90-0314\n",
            "812-13-2476,247-17-2338\n",
            "812-13-2476,318-22-2760\n",
            "812-13-2476,218-68-9955\n",
            "812-13-2476,165-73-3124\n",
            "812-13-2476,432-47-4043\n",
            "812-13-2476,563-93-1393\n",
            "812-13-2476,153-93-3401\n",
            "812-13-2476,670-09-7369\n",
            "812-13-2476,123-05-9652\n",
            "812-13-2476,812-13-2476\n",
            "812-13-2476,726-13-1007\n",
            "812-13-2476,825-05-4836\n",
            "726-13-1007,102-90-0314\n",
            "726-13-1007,247-17-2338\n",
            "726-13-1007,318-22-2760\n",
            "726-13-1007,218-68-9955\n",
            "726-13-1007,165-73-3124\n",
            "726-13-1007,432-47-4043\n",
            "726-13-1007,563-93-1393\n",
            "726-13-1007,153-93-3401\n",
            "726-13-1007,670-09-7369\n",
            "726-13-1007,123-05-9652\n",
            "726-13-1007,812-13-2476\n",
            "726-13-1007,726-13-1007\n",
            "726-13-1007,825-05-4836\n",
            "825-05-4836,102-90-0314\n",
            "825-05-4836,247-17-2338\n",
            "825-05-4836,318-22-2760\n",
            "825-05-4836,218-68-9955\n",
            "825-05-4836,165-73-3124\n",
            "825-05-4836,432-47-4043\n",
            "825-05-4836,563-93-1393\n",
            "825-05-4836,153-93-3401\n",
            "825-05-4836,670-09-7369\n",
            "825-05-4836,123-05-9652\n",
            "825-05-4836,812-13-2476\n",
            "825-05-4836,726-13-1007\n",
            "825-05-4836,825-05-4836\n",
            "102-90-0314,102-90-0314\n",
            "102-90-0314,247-17-2338\n",
            "102-90-0314,318-22-2760\n",
            "102-90-0314,218-68-9955\n",
            "102-90-0314,165-73-3124\n",
            "102-90-0314,432-47-4043\n",
            "102-90-0314,563-93-1393\n",
            "102-90-0314,153-93-3401\n",
            "102-90-0314,670-09-7369\n",
            "102-90-0314,123-05-9652\n",
            "102-90-0314,812-13-2476\n",
            "102-90-0314,726-13-1007\n",
            "102-90-0314,825-05-4836\n",
            "247-17-2338,102-90-0314\n",
            "247-17-2338,247-17-2338\n",
            "247-17-2338,318-22-2760\n",
            "247-17-2338,218-68-9955\n",
            "247-17-2338,165-73-3124\n",
            "247-17-2338,432-47-4043\n",
            "247-17-2338,563-93-1393\n",
            "247-17-2338,153-93-3401\n",
            "247-17-2338,670-09-7369\n",
            "247-17-2338,123-05-9652\n",
            "247-17-2338,812-13-2476\n",
            "247-17-2338,726-13-1007\n",
            "247-17-2338,825-05-4836\n",
            "318-22-2760,102-90-0314\n",
            "318-22-2760,247-17-2338\n",
            "318-22-2760,318-22-2760\n",
            "318-22-2760,218-68-9955\n",
            "318-22-2760,165-73-3124\n",
            "318-22-2760,432-47-4043\n",
            "318-22-2760,563-93-1393\n",
            "318-22-2760,153-93-3401\n",
            "318-22-2760,670-09-7369\n",
            "318-22-2760,123-05-9652\n",
            "318-22-2760,812-13-2476\n",
            "318-22-2760,726-13-1007\n",
            "318-22-2760,825-05-4836\n"
          ],
          "name": "stdout"
        }
      ]
    },
    {
      "cell_type": "code",
      "metadata": {
        "colab": {
          "base_uri": "https://localhost:8080/"
        },
        "id": "vnZic1Z2UeZI",
        "outputId": "d1386c5c-8572-4874-c3bd-121e0aaf9381"
      },
      "source": [
        "car_models = list(pd.read_csv(\"https://raw.githubusercontent.com/PacktWorkshops/The-Data-Wrangling-Workshop/master/Chapter01/datasets/car_models.csv\"))\n",
        "car_models"
      ],
      "execution_count": 20,
      "outputs": [
        {
          "output_type": "execute_result",
          "data": {
            "text/plain": [
              "['Escalade ',\n",
              " ' X5 M',\n",
              " 'D150',\n",
              " 'Camaro',\n",
              " 'F350',\n",
              " 'Aurora',\n",
              " 'S8',\n",
              " 'E350',\n",
              " 'Tiburon',\n",
              " 'F-Series Super Duty ']"
            ]
          },
          "metadata": {
            "tags": []
          },
          "execution_count": 20
        }
      ]
    },
    {
      "cell_type": "code",
      "metadata": {
        "colab": {
          "base_uri": "https://localhost:8080/"
        },
        "id": "a0I2Pt7rVSpN",
        "outputId": "2b390a61-3548-45fd-f618-c85a0b60d4fb"
      },
      "source": [
        "list_1 = [x for x in car_models]\n",
        "for i in range(0, len(list_1)):\n",
        "  print(list_1[i])"
      ],
      "execution_count": 21,
      "outputs": [
        {
          "output_type": "stream",
          "text": [
            "Escalade \n",
            " X5 M\n",
            "D150\n",
            "Camaro\n",
            "F350\n",
            "Aurora\n",
            "S8\n",
            "E350\n",
            "Tiburon\n",
            "F-Series Super Duty \n"
          ],
          "name": "stdout"
        }
      ]
    },
    {
      "cell_type": "code",
      "metadata": {
        "colab": {
          "base_uri": "https://localhost:8080/"
        },
        "id": "gJuqQQV5VcL1",
        "outputId": "ffdba2de-9407-4266-d03d-458c9b83a70d"
      },
      "source": [
        "for i in list_1:\n",
        "  print(i)"
      ],
      "execution_count": 22,
      "outputs": [
        {
          "output_type": "stream",
          "text": [
            "Escalade \n",
            " X5 M\n",
            "D150\n",
            "Camaro\n",
            "F350\n",
            "Aurora\n",
            "S8\n",
            "E350\n",
            "Tiburon\n",
            "F-Series Super Duty \n"
          ],
          "name": "stdout"
        }
      ]
    },
    {
      "cell_type": "code",
      "metadata": {
        "colab": {
          "base_uri": "https://localhost:8080/"
        },
        "id": "3cLECtxAVf5I",
        "outputId": "bcad66ac-7503-40ee-fd08-ea804e5b92dc"
      },
      "source": [
        "## Sorting list\n",
        "list_1 = [*range(0, 21,1)]\n",
        "list_1.sort(reverse=True)\n",
        "list_1"
      ],
      "execution_count": 26,
      "outputs": [
        {
          "output_type": "execute_result",
          "data": {
            "text/plain": [
              "[20, 19, 18, 17, 16, 15, 14, 13, 12, 11, 10, 9, 8, 7, 6, 5, 4, 3, 2, 1, 0]"
            ]
          },
          "metadata": {
            "tags": []
          },
          "execution_count": 26
        }
      ]
    },
    {
      "cell_type": "code",
      "metadata": {
        "colab": {
          "base_uri": "https://localhost:8080/"
        },
        "id": "B6lwllTiVqyp",
        "outputId": "db280d1e-b999-494e-be02-24d58a68c08e"
      },
      "source": [
        "list_1.reverse()\n",
        "list_1"
      ],
      "execution_count": 27,
      "outputs": [
        {
          "output_type": "execute_result",
          "data": {
            "text/plain": [
              "[0, 1, 2, 3, 4, 5, 6, 7, 8, 9, 10, 11, 12, 13, 14, 15, 16, 17, 18, 19, 20]"
            ]
          },
          "metadata": {
            "tags": []
          },
          "execution_count": 27
        }
      ]
    },
    {
      "cell_type": "code",
      "metadata": {
        "colab": {
          "base_uri": "https://localhost:8080/"
        },
        "id": "L5bsdH5CVsxf",
        "outputId": "753d4143-242d-4883-8606-17e860154cea"
      },
      "source": [
        "import random\n",
        "list_1 = [random.randint(0,30) for x in range(0,100)]\n",
        "list_1"
      ],
      "execution_count": 28,
      "outputs": [
        {
          "output_type": "execute_result",
          "data": {
            "text/plain": [
              "[0,\n",
              " 11,\n",
              " 16,\n",
              " 17,\n",
              " 3,\n",
              " 4,\n",
              " 6,\n",
              " 12,\n",
              " 23,\n",
              " 24,\n",
              " 24,\n",
              " 6,\n",
              " 10,\n",
              " 6,\n",
              " 3,\n",
              " 24,\n",
              " 18,\n",
              " 6,\n",
              " 23,\n",
              " 30,\n",
              " 12,\n",
              " 13,\n",
              " 27,\n",
              " 24,\n",
              " 8,\n",
              " 28,\n",
              " 13,\n",
              " 24,\n",
              " 6,\n",
              " 0,\n",
              " 10,\n",
              " 22,\n",
              " 12,\n",
              " 10,\n",
              " 1,\n",
              " 10,\n",
              " 24,\n",
              " 20,\n",
              " 5,\n",
              " 19,\n",
              " 12,\n",
              " 28,\n",
              " 19,\n",
              " 28,\n",
              " 26,\n",
              " 13,\n",
              " 4,\n",
              " 17,\n",
              " 20,\n",
              " 0,\n",
              " 6,\n",
              " 24,\n",
              " 24,\n",
              " 21,\n",
              " 6,\n",
              " 29,\n",
              " 11,\n",
              " 23,\n",
              " 20,\n",
              " 12,\n",
              " 29,\n",
              " 17,\n",
              " 19,\n",
              " 1,\n",
              " 15,\n",
              " 26,\n",
              " 17,\n",
              " 27,\n",
              " 1,\n",
              " 19,\n",
              " 21,\n",
              " 16,\n",
              " 26,\n",
              " 30,\n",
              " 17,\n",
              " 22,\n",
              " 27,\n",
              " 28,\n",
              " 4,\n",
              " 12,\n",
              " 8,\n",
              " 18,\n",
              " 14,\n",
              " 1,\n",
              " 1,\n",
              " 7,\n",
              " 4,\n",
              " 29,\n",
              " 21,\n",
              " 26,\n",
              " 17,\n",
              " 2,\n",
              " 27,\n",
              " 12,\n",
              " 9,\n",
              " 18,\n",
              " 9,\n",
              " 7,\n",
              " 16,\n",
              " 26]"
            ]
          },
          "metadata": {
            "tags": []
          },
          "execution_count": 28
        }
      ]
    },
    {
      "cell_type": "code",
      "metadata": {
        "colab": {
          "base_uri": "https://localhost:8080/"
        },
        "id": "PgvVzOQhV2Kt",
        "outputId": "c9527e88-b9ef-4b4d-ecce-d57284205fdc"
      },
      "source": [
        "list_2 = [x**2 for x in list_1]\n",
        "list_2"
      ],
      "execution_count": 29,
      "outputs": [
        {
          "output_type": "execute_result",
          "data": {
            "text/plain": [
              "[0,\n",
              " 121,\n",
              " 256,\n",
              " 289,\n",
              " 9,\n",
              " 16,\n",
              " 36,\n",
              " 144,\n",
              " 529,\n",
              " 576,\n",
              " 576,\n",
              " 36,\n",
              " 100,\n",
              " 36,\n",
              " 9,\n",
              " 576,\n",
              " 324,\n",
              " 36,\n",
              " 529,\n",
              " 900,\n",
              " 144,\n",
              " 169,\n",
              " 729,\n",
              " 576,\n",
              " 64,\n",
              " 784,\n",
              " 169,\n",
              " 576,\n",
              " 36,\n",
              " 0,\n",
              " 100,\n",
              " 484,\n",
              " 144,\n",
              " 100,\n",
              " 1,\n",
              " 100,\n",
              " 576,\n",
              " 400,\n",
              " 25,\n",
              " 361,\n",
              " 144,\n",
              " 784,\n",
              " 361,\n",
              " 784,\n",
              " 676,\n",
              " 169,\n",
              " 16,\n",
              " 289,\n",
              " 400,\n",
              " 0,\n",
              " 36,\n",
              " 576,\n",
              " 576,\n",
              " 441,\n",
              " 36,\n",
              " 841,\n",
              " 121,\n",
              " 529,\n",
              " 400,\n",
              " 144,\n",
              " 841,\n",
              " 289,\n",
              " 361,\n",
              " 1,\n",
              " 225,\n",
              " 676,\n",
              " 289,\n",
              " 729,\n",
              " 1,\n",
              " 361,\n",
              " 441,\n",
              " 256,\n",
              " 676,\n",
              " 900,\n",
              " 289,\n",
              " 484,\n",
              " 729,\n",
              " 784,\n",
              " 16,\n",
              " 144,\n",
              " 64,\n",
              " 324,\n",
              " 196,\n",
              " 1,\n",
              " 1,\n",
              " 49,\n",
              " 16,\n",
              " 841,\n",
              " 441,\n",
              " 676,\n",
              " 289,\n",
              " 4,\n",
              " 729,\n",
              " 144,\n",
              " 81,\n",
              " 324,\n",
              " 81,\n",
              " 49,\n",
              " 256,\n",
              " 676]"
            ]
          },
          "metadata": {
            "tags": []
          },
          "execution_count": 29
        }
      ]
    },
    {
      "cell_type": "code",
      "metadata": {
        "colab": {
          "base_uri": "https://localhost:8080/"
        },
        "id": "Vy2pvj8aV6sb",
        "outputId": "09d94793-e28d-466d-a598-4e762ebaef11"
      },
      "source": [
        "import math\n",
        "list_2 = [math.log(x+1, 10) for x in list_2]\n",
        "list_2"
      ],
      "execution_count": 30,
      "outputs": [
        {
          "output_type": "execute_result",
          "data": {
            "text/plain": [
              "[0.0,\n",
              " 2.086359830674748,\n",
              " 2.4099331233312946,\n",
              " 2.4623979978989556,\n",
              " 1.0,\n",
              " 1.2304489213782739,\n",
              " 1.5682017240669948,\n",
              " 2.1613680022349744,\n",
              " 2.7242758696007887,\n",
              " 2.7611758131557314,\n",
              " 2.7611758131557314,\n",
              " 1.5682017240669948,\n",
              " 2.0043213737826426,\n",
              " 1.5682017240669948,\n",
              " 1.0,\n",
              " 2.7611758131557314,\n",
              " 2.511883360978874,\n",
              " 1.5682017240669948,\n",
              " 2.7242758696007887,\n",
              " 2.9547247909790624,\n",
              " 2.1613680022349744,\n",
              " 2.2304489213782737,\n",
              " 2.8633228601204554,\n",
              " 2.7611758131557314,\n",
              " 1.8129133566428552,\n",
              " 2.8948696567452523,\n",
              " 2.2304489213782737,\n",
              " 2.7611758131557314,\n",
              " 1.5682017240669948,\n",
              " 0.0,\n",
              " 2.0043213737826426,\n",
              " 2.6857417386022635,\n",
              " 2.1613680022349744,\n",
              " 2.0043213737826426,\n",
              " 0.30102999566398114,\n",
              " 2.0043213737826426,\n",
              " 2.7611758131557314,\n",
              " 2.603144372620182,\n",
              " 1.414973347970818,\n",
              " 2.558708570533166,\n",
              " 2.1613680022349744,\n",
              " 2.8948696567452523,\n",
              " 2.558708570533166,\n",
              " 2.8948696567452523,\n",
              " 2.8305886686851442,\n",
              " 2.2304489213782737,\n",
              " 1.2304489213782739,\n",
              " 2.4623979978989556,\n",
              " 2.603144372620182,\n",
              " 0.0,\n",
              " 1.5682017240669948,\n",
              " 2.7611758131557314,\n",
              " 2.7611758131557314,\n",
              " 2.6454222693490914,\n",
              " 1.5682017240669948,\n",
              " 2.925312091499649,\n",
              " 2.086359830674748,\n",
              " 2.7242758696007887,\n",
              " 2.603144372620182,\n",
              " 2.1613680022349744,\n",
              " 2.925312091499649,\n",
              " 2.4623979978989556,\n",
              " 2.558708570533166,\n",
              " 0.30102999566398114,\n",
              " 2.3541084391474008,\n",
              " 2.8305886686851442,\n",
              " 2.4623979978989556,\n",
              " 2.8633228601204554,\n",
              " 0.30102999566398114,\n",
              " 2.558708570533166,\n",
              " 2.6454222693490914,\n",
              " 2.4099331233312946,\n",
              " 2.8305886686851442,\n",
              " 2.9547247909790624,\n",
              " 2.4623979978989556,\n",
              " 2.6857417386022635,\n",
              " 2.8633228601204554,\n",
              " 2.8948696567452523,\n",
              " 1.2304489213782739,\n",
              " 2.1613680022349744,\n",
              " 1.8129133566428552,\n",
              " 2.511883360978874,\n",
              " 2.294466226161593,\n",
              " 0.30102999566398114,\n",
              " 0.30102999566398114,\n",
              " 1.6989700043360185,\n",
              " 1.2304489213782739,\n",
              " 2.925312091499649,\n",
              " 2.6454222693490914,\n",
              " 2.8305886686851442,\n",
              " 2.4623979978989556,\n",
              " 0.6989700043360187,\n",
              " 2.8633228601204554,\n",
              " 2.1613680022349744,\n",
              " 1.9138138523837167,\n",
              " 2.511883360978874,\n",
              " 1.9138138523837167,\n",
              " 1.6989700043360185,\n",
              " 2.4099331233312946,\n",
              " 2.8305886686851442]"
            ]
          },
          "metadata": {
            "tags": []
          },
          "execution_count": 30
        }
      ]
    },
    {
      "cell_type": "code",
      "metadata": {
        "colab": {
          "base_uri": "https://localhost:8080/"
        },
        "id": "xDKTj0stWAQB",
        "outputId": "c4fae586-37fe-4375-a79c-5be5be5dac69"
      },
      "source": [
        "import random\n",
        "list_1 = [random.randint(0,100) for x in range(0,100)]\n",
        "list_2 = [x for x in list_1 if x % 3 == 0]\n",
        "diff_len = len(list_1) - len(list_2)"
      ],
      "execution_count": 34,
      "outputs": [
        {
          "output_type": "execute_result",
          "data": {
            "text/plain": [
              "63"
            ]
          },
          "metadata": {
            "tags": []
          },
          "execution_count": 34
        }
      ]
    },
    {
      "cell_type": "code",
      "metadata": {
        "colab": {
          "base_uri": "https://localhost:8080/"
        },
        "id": "_B8Rl_jmgfu2",
        "outputId": "9bb6d805-aa0c-4f25-f8f4-7cd4cace62b3"
      },
      "source": [
        "num = 10\n",
        "diff_list = []\n",
        "\n",
        "for i in range(0, num):\n",
        "  random_number = [random.randint(0,100) for x in range(0,100)]\n",
        "  list_div_3 = [x for x in random_number if x % 3 == 0]\n",
        "  length = len(random_number) - len(list_div_3)\n",
        "  diff_list.append(length)\n",
        "\n",
        "diff_list"
      ],
      "execution_count": 35,
      "outputs": [
        {
          "output_type": "execute_result",
          "data": {
            "text/plain": [
              "[70, 63, 62, 67, 67, 62, 70, 63, 69, 69]"
            ]
          },
          "metadata": {
            "tags": []
          },
          "execution_count": 35
        }
      ]
    },
    {
      "cell_type": "code",
      "metadata": {
        "colab": {
          "base_uri": "https://localhost:8080/"
        },
        "id": "VDGKDF5JhzkR",
        "outputId": "3467f021-95c9-4d2e-b75e-55e5d0beca4e"
      },
      "source": [
        "avg_diff = sum(diff_list) / float(len(diff_list))\n",
        "avg_diff"
      ],
      "execution_count": 36,
      "outputs": [
        {
          "output_type": "execute_result",
          "data": {
            "text/plain": [
              "66.2"
            ]
          },
          "metadata": {
            "tags": []
          },
          "execution_count": 36
        }
      ]
    },
    {
      "cell_type": "code",
      "metadata": {
        "id": "mwU9WQW-h8nk"
      },
      "source": [
        "list_12 = list(set(list_1))"
      ],
      "execution_count": 37,
      "outputs": []
    },
    {
      "cell_type": "code",
      "metadata": {
        "id": "uM4rQY3ZjZVn"
      },
      "source": [
        "set1 = {\"Apple\", \"Orange\", \"Banana\"}\n",
        "set2 = {\"Pear\", \"Peach\", \"Mango\", \"Banana\"}"
      ],
      "execution_count": 38,
      "outputs": []
    },
    {
      "cell_type": "code",
      "metadata": {
        "colab": {
          "base_uri": "https://localhost:8080/"
        },
        "id": "34orG4gbjcoJ",
        "outputId": "ad28ea5b-d4ef-42f9-cef2-65381bb18c3c"
      },
      "source": [
        "set1 & set2"
      ],
      "execution_count": 39,
      "outputs": [
        {
          "output_type": "execute_result",
          "data": {
            "text/plain": [
              "{'Banana'}"
            ]
          },
          "metadata": {
            "tags": []
          },
          "execution_count": 39
        }
      ]
    },
    {
      "cell_type": "code",
      "metadata": {
        "id": "lc8dZuqUjeYg"
      },
      "source": [
        "stocks = \\\n",
        "{\"Solar Capital Ltd.\":\"$920.44M\", \\\n",
        "\"Zoe's Kitchen, Inc.\":\"$262.32M\",\\\n",
        "\"Toyota Motor Corp Ltd Ord\":\"$156.02B\",\\\n",
        "\"Nuveen Virginia Quality Municipal Income Fund\":\"$238.33M\",\\\n",
        "\"Kinross Gold Corporation\":\"$5.1B\",\\\n",
        "\"Vulcan Materials Company\":\"$17.1B\",\\\n",
        " \"Hi-Crush Partners LP\":\"$955.69M\",\\\n",
        "\"Lennox International, Inc.\":\"$8.05B\",\\\n",
        "\"WMIH Corp.\":\"$247.66M\",\\\n",
        "\"Comerica Incorporated\":\"n/a\"}"
      ],
      "execution_count": 40,
      "outputs": []
    },
    {
      "cell_type": "code",
      "metadata": {
        "colab": {
          "base_uri": "https://localhost:8080/",
          "height": 35
        },
        "id": "2hM8QRGpqWgW",
        "outputId": "2e221121-a263-4166-aa27-0afdcfeb5751"
      },
      "source": [
        "stocks[\"WMIH Corp.\"]"
      ],
      "execution_count": 43,
      "outputs": [
        {
          "output_type": "execute_result",
          "data": {
            "application/vnd.google.colaboratory.intrinsic+json": {
              "type": "string"
            },
            "text/plain": [
              "'$300M'"
            ]
          },
          "metadata": {
            "tags": []
          },
          "execution_count": 43
        }
      ]
    },
    {
      "cell_type": "code",
      "metadata": {
        "id": "Ep1IfBXqqaTK"
      },
      "source": [
        "stocks[\"WMIH Corp.\"] = \"$300M\""
      ],
      "execution_count": 42,
      "outputs": []
    },
    {
      "cell_type": "code",
      "metadata": {
        "id": "ip8tCHgDqeUn"
      },
      "source": [
        "dict_3 = {} # Not a null set. It is a dict\n",
        "dict_3[\"key1\"] = \"Value1\"\n",
        "dict_3\n",
        "\n",
        "stocks = \\\n",
        "{\"Solar Capital Ltd.\":\"$920.44M\",\\\n",
        "\"Zoe's Kitchen, Inc.\":\"$262.32M\",\\\n",
        "\"Toyota Motor Corp Ltd Ord\":\"$156.02B\",\\\n",
        "\"Nuveen Virginia Quality Municipal Income Fund\":\"$238.33M\",\\\n",
        "\"Kinross Gold Corporation\":\"$5.1B\",\\\n",
        "\"Vulcan Materials Company\":\"$17.1B\",\\\n",
        "\"Hi-Crush Partners LP\":\"$955.69M\",\\\n",
        "\"Lennox International, Inc.\":\"$8.05B\",\\\n",
        "\"WMIH Corp.\":\"$247.66M\",\\\n",
        "\"Comerica Incorporated\":\"n/a\"}"
      ],
      "execution_count": 48,
      "outputs": []
    },
    {
      "cell_type": "code",
      "metadata": {
        "colab": {
          "base_uri": "https://localhost:8080/"
        },
        "id": "2k9F0b1cqhbi",
        "outputId": "82adb5fb-5cfc-4b76-9a95-7839cb4c5452"
      },
      "source": [
        "for key,val in stocks.items():\n",
        "  stocks[key] = val.replace('$', '')\n",
        "stocks"
      ],
      "execution_count": 49,
      "outputs": [
        {
          "output_type": "execute_result",
          "data": {
            "text/plain": [
              "{'Comerica Incorporated': 'n/a',\n",
              " 'Hi-Crush Partners LP': '955.69M',\n",
              " 'Kinross Gold Corporation': '5.1B',\n",
              " 'Lennox International, Inc.': '8.05B',\n",
              " 'Nuveen Virginia Quality Municipal Income Fund': '238.33M',\n",
              " 'Solar Capital Ltd.': '920.44M',\n",
              " 'Toyota Motor Corp Ltd Ord': '156.02B',\n",
              " 'Vulcan Materials Company': '17.1B',\n",
              " 'WMIH Corp.': '247.66M',\n",
              " \"Zoe's Kitchen, Inc.\": '262.32M'}"
            ]
          },
          "metadata": {
            "tags": []
          },
          "execution_count": 49
        }
      ]
    },
    {
      "cell_type": "code",
      "metadata": {
        "colab": {
          "base_uri": "https://localhost:8080/"
        },
        "id": "Znx1-CoEqkDX",
        "outputId": "4ce30fc7-724a-4a7e-a284-2dd518b8053b"
      },
      "source": [
        "for key,val in stocks.items():\n",
        "  mult = val[-1]\n",
        "  stocks[key] = [val[:-1],mult]\n",
        "stocks"
      ],
      "execution_count": 50,
      "outputs": [
        {
          "output_type": "execute_result",
          "data": {
            "text/plain": [
              "{'Comerica Incorporated': ['n/', 'a'],\n",
              " 'Hi-Crush Partners LP': ['955.69', 'M'],\n",
              " 'Kinross Gold Corporation': ['5.1', 'B'],\n",
              " 'Lennox International, Inc.': ['8.05', 'B'],\n",
              " 'Nuveen Virginia Quality Municipal Income Fund': ['238.33', 'M'],\n",
              " 'Solar Capital Ltd.': ['920.44', 'M'],\n",
              " 'Toyota Motor Corp Ltd Ord': ['156.02', 'B'],\n",
              " 'Vulcan Materials Company': ['17.1', 'B'],\n",
              " 'WMIH Corp.': ['247.66', 'M'],\n",
              " \"Zoe's Kitchen, Inc.\": ['262.32', 'M']}"
            ]
          },
          "metadata": {
            "tags": []
          },
          "execution_count": 50
        }
      ]
    },
    {
      "cell_type": "code",
      "metadata": {
        "colab": {
          "base_uri": "https://localhost:8080/"
        },
        "id": "PFc-gioVqoal",
        "outputId": "c4571cdf-c9ac-425a-8abf-3947586f8edd"
      },
      "source": [
        "import random\n",
        "list_1 = [random.randint(0, 30) for x in range (0, 100)]\n",
        "list(dict.fromkeys(list_1).keys())"
      ],
      "execution_count": 51,
      "outputs": [
        {
          "output_type": "execute_result",
          "data": {
            "text/plain": [
              "[15,\n",
              " 22,\n",
              " 17,\n",
              " 1,\n",
              " 19,\n",
              " 13,\n",
              " 9,\n",
              " 6,\n",
              " 2,\n",
              " 3,\n",
              " 27,\n",
              " 8,\n",
              " 18,\n",
              " 14,\n",
              " 29,\n",
              " 21,\n",
              " 20,\n",
              " 0,\n",
              " 7,\n",
              " 10,\n",
              " 16,\n",
              " 26,\n",
              " 4,\n",
              " 11,\n",
              " 30,\n",
              " 25,\n",
              " 23,\n",
              " 12,\n",
              " 24,\n",
              " 28,\n",
              " 5]"
            ]
          },
          "metadata": {
            "tags": []
          },
          "execution_count": 51
        }
      ]
    },
    {
      "cell_type": "code",
      "metadata": {
        "colab": {
          "base_uri": "https://localhost:8080/"
        },
        "id": "yi36zAzOq1HH",
        "outputId": "d0d09284-daa3-416d-d100-6574246f3b67"
      },
      "source": [
        "dict_1 = {\"key1\": 1, \"key2\": [\"list_element1\", 34], \\\n",
        "\"key3\": \"value3\",\"key4\": {\"subkey1\": \"v1\"}, \\\n",
        "\"key5\": 4.5}\n",
        "dict_1"
      ],
      "execution_count": 52,
      "outputs": [
        {
          "output_type": "execute_result",
          "data": {
            "text/plain": [
              "{'key1': 1,\n",
              " 'key2': ['list_element1', 34],\n",
              " 'key3': 'value3',\n",
              " 'key4': {'subkey1': 'v1'},\n",
              " 'key5': 4.5}"
            ]
          },
          "metadata": {
            "tags": []
          },
          "execution_count": 52
        }
      ]
    },
    {
      "cell_type": "code",
      "metadata": {
        "colab": {
          "base_uri": "https://localhost:8080/"
        },
        "id": "IpYJna18q3tV",
        "outputId": "46cdc3c0-bcc2-49d1-a9e5-7c387c6ab44c"
      },
      "source": [
        "del dict_1[\"key2\"]\n",
        "dict_1"
      ],
      "execution_count": 53,
      "outputs": [
        {
          "output_type": "execute_result",
          "data": {
            "text/plain": [
              "{'key1': 1, 'key3': 'value3', 'key4': {'subkey1': 'v1'}, 'key5': 4.5}"
            ]
          },
          "metadata": {
            "tags": []
          },
          "execution_count": 53
        }
      ]
    },
    {
      "cell_type": "code",
      "metadata": {
        "colab": {
          "base_uri": "https://localhost:8080/"
        },
        "id": "9sKjer3Eq5Yw",
        "outputId": "78fd1f04-efba-4f4d-a617-5031a6c444c9"
      },
      "source": [
        "del dict_1[\"key3\"]\n",
        "del dict_1[\"key4\"]\n",
        "dict_1"
      ],
      "execution_count": 54,
      "outputs": [
        {
          "output_type": "execute_result",
          "data": {
            "text/plain": [
              "{'key1': 1, 'key5': 4.5}"
            ]
          },
          "metadata": {
            "tags": []
          },
          "execution_count": 54
        }
      ]
    },
    {
      "cell_type": "code",
      "metadata": {
        "colab": {
          "base_uri": "https://localhost:8080/"
        },
        "id": "dhKtdVteq7h2",
        "outputId": "33ed1743-cc52-4bc5-bf7f-f9c355360a6e"
      },
      "source": [
        "list_1 = [x for x in range(0, 10)]\n",
        "dict_1 = {x : x**2 for x in list_1}\n",
        "dict_1"
      ],
      "execution_count": 55,
      "outputs": [
        {
          "output_type": "execute_result",
          "data": {
            "text/plain": [
              "{0: 0, 1: 1, 2: 4, 3: 9, 4: 16, 5: 25, 6: 36, 7: 49, 8: 64, 9: 81}"
            ]
          },
          "metadata": {
            "tags": []
          },
          "execution_count": 55
        }
      ]
    },
    {
      "cell_type": "code",
      "metadata": {
        "colab": {
          "base_uri": "https://localhost:8080/"
        },
        "id": "PXzkWwWAq9hc",
        "outputId": "82816b28-fcb6-480b-9303-f5c1a34d2e83"
      },
      "source": [
        "dict_2 = dict([('Tom', 100), ('Dick', 200), ('Harry', 300)])\n",
        "dict_2"
      ],
      "execution_count": 56,
      "outputs": [
        {
          "output_type": "execute_result",
          "data": {
            "text/plain": [
              "{'Dick': 200, 'Harry': 300, 'Tom': 100}"
            ]
          },
          "metadata": {
            "tags": []
          },
          "execution_count": 56
        }
      ]
    },
    {
      "cell_type": "code",
      "metadata": {
        "colab": {
          "base_uri": "https://localhost:8080/"
        },
        "id": "BigklaNJq_nw",
        "outputId": "79844760-ae56-41db-c2f9-51bddbb4e254"
      },
      "source": [
        "dict_3 = dict(Tom=100, Dick=200, Harry=300)\n",
        "dict_3"
      ],
      "execution_count": 57,
      "outputs": [
        {
          "output_type": "execute_result",
          "data": {
            "text/plain": [
              "{'Dick': 200, 'Harry': 300, 'Tom': 100}"
            ]
          },
          "metadata": {
            "tags": []
          },
          "execution_count": 57
        }
      ]
    },
    {
      "cell_type": "code",
      "metadata": {
        "colab": {
          "base_uri": "https://localhost:8080/"
        },
        "id": "KJboYTa6rBt4",
        "outputId": "e03e7353-c46b-47d1-a3f2-479115be72f0"
      },
      "source": [
        "tupleE = \"1\", \"3\", \"5\"\n",
        "tupleE"
      ],
      "execution_count": 58,
      "outputs": [
        {
          "output_type": "execute_result",
          "data": {
            "text/plain": [
              "('1', '3', '5')"
            ]
          },
          "metadata": {
            "tags": []
          },
          "execution_count": 58
        }
      ]
    },
    {
      "cell_type": "code",
      "metadata": {
        "id": "pjLi-z0QrGLA"
      },
      "source": [
        "multiline_text= \"\"\"It is a truth universally acknowledged, that a single man in possession of a good fortune, must be in want of a wife.\n",
        "\n",
        "However little known the feelings or views of such a man may be on his first entering a neighbourhood, this truth is so well fixed in the minds of the surrounding families, that he is considered the rightful property of some one or other of their daughters.\n",
        "\n",
        "\"My dear Mr. Bennet,\" said his lady to him one day, \"have you heard that Netherfield Park is let at last?\"\n",
        "\n",
        "Mr. Bennet replied that he had not.\n",
        "\n",
        "\"But it is,\" returned she; \"for Mrs. Long has just been here, and she told me all about it.\"\n",
        "\n",
        "Mr. Bennet made no answer.\n",
        "\n",
        "\"Do you not want to know who has taken it?\" cried his wife impatiently.\n",
        "\n",
        "\"You want to tell me, and I have no objection to hearing it.\"\n",
        "\n",
        "This was invitation enough.\n",
        "\n",
        "\"Why, my dear, you must know, Mrs. Long says that Netherfield is taken by a young man of large fortune from the north of England; that he came down on Monday in a chaise and four to see the place, and was so much delighted with it, that he agreed with Mr. Morris immediately; that he is to take possession before Michaelmas, and some of his servants are to be in the house by the end of next week.\"\n",
        "\n",
        "\"What is his name?\"\"\""
      ],
      "execution_count": 59,
      "outputs": []
    },
    {
      "cell_type": "code",
      "metadata": {
        "colab": {
          "base_uri": "https://localhost:8080/",
          "height": 256
        },
        "id": "Ud8O0IJDrYwJ",
        "outputId": "9c6c9789-fa62-4d25-ec7e-7ef8312da552"
      },
      "source": [
        "multiline_text = multiline_text.replace('\\n', \"\")\n",
        "multiline_text"
      ],
      "execution_count": 60,
      "outputs": [
        {
          "output_type": "execute_result",
          "data": {
            "application/vnd.google.colaboratory.intrinsic+json": {
              "type": "string"
            },
            "text/plain": [
              "'It is a truth universally acknowledged, that a single man in possession of a good fortune, must be in want of a wife.However little known the feelings or views of such a man may be on his first entering a neighbourhood, this truth is so well fixed in the minds of the surrounding families, that he is considered the rightful property of some one or other of their daughters.\"My dear Mr. Bennet,\" said his lady to him one day, \"have you heard that Netherfield Park is let at last?\"Mr. Bennet replied that he had not.\"But it is,\" returned she; \"for Mrs. Long has just been here, and she told me all about it.\"Mr. Bennet made no answer.\"Do you not want to know who has taken it?\" cried his wife impatiently.\"You want to tell me, and I have no objection to hearing it.\"This was invitation enough.\"Why, my dear, you must know, Mrs. Long says that Netherfield is taken by a young man of large fortune from the north of England; that he came down on Monday in a chaise and four to see the place, and was so much delighted with it, that he agreed with Mr. Morris immediately; that he is to take possession before Michaelmas, and some of his servants are to be in the house by the end of next week.\"\"What is his name?'"
            ]
          },
          "metadata": {
            "tags": []
          },
          "execution_count": 60
        }
      ]
    },
    {
      "cell_type": "code",
      "metadata": {
        "id": "TXpQ9pPqrfFJ"
      },
      "source": [
        "# remove special chars, punctuation etc.\n",
        "cleaned_multiline_text = \"\"\n",
        "for char in multiline_text:\n",
        "    if char == \" \":\n",
        "        cleaned_multiline_text += char\n",
        "    elif char.isalnum():  # using the isalnum() method of strings.\n",
        "        cleaned_multiline_text += char\n",
        "    else:\n",
        "        cleaned_multiline_text += \" \""
      ],
      "execution_count": 62,
      "outputs": []
    },
    {
      "cell_type": "code",
      "metadata": {
        "colab": {
          "base_uri": "https://localhost:8080/"
        },
        "id": "3XP76dcKrmFG",
        "outputId": "631be258-2c5d-4757-d275-bee4f91ff6aa"
      },
      "source": [
        "list_of_words = cleaned_multiline_text.split()\n",
        "list_of_words"
      ],
      "execution_count": 63,
      "outputs": [
        {
          "output_type": "execute_result",
          "data": {
            "text/plain": [
              "['It',\n",
              " 'is',\n",
              " 'a',\n",
              " 'truth',\n",
              " 'universally',\n",
              " 'acknowledged',\n",
              " 'that',\n",
              " 'a',\n",
              " 'single',\n",
              " 'man',\n",
              " 'in',\n",
              " 'possession',\n",
              " 'of',\n",
              " 'a',\n",
              " 'good',\n",
              " 'fortune',\n",
              " 'must',\n",
              " 'be',\n",
              " 'in',\n",
              " 'want',\n",
              " 'of',\n",
              " 'a',\n",
              " 'wife',\n",
              " 'However',\n",
              " 'little',\n",
              " 'known',\n",
              " 'the',\n",
              " 'feelings',\n",
              " 'or',\n",
              " 'views',\n",
              " 'of',\n",
              " 'such',\n",
              " 'a',\n",
              " 'man',\n",
              " 'may',\n",
              " 'be',\n",
              " 'on',\n",
              " 'his',\n",
              " 'first',\n",
              " 'entering',\n",
              " 'a',\n",
              " 'neighbourhood',\n",
              " 'this',\n",
              " 'truth',\n",
              " 'is',\n",
              " 'so',\n",
              " 'well',\n",
              " 'fixed',\n",
              " 'in',\n",
              " 'the',\n",
              " 'minds',\n",
              " 'of',\n",
              " 'the',\n",
              " 'surrounding',\n",
              " 'families',\n",
              " 'that',\n",
              " 'he',\n",
              " 'is',\n",
              " 'considered',\n",
              " 'the',\n",
              " 'rightful',\n",
              " 'property',\n",
              " 'of',\n",
              " 'some',\n",
              " 'one',\n",
              " 'or',\n",
              " 'other',\n",
              " 'of',\n",
              " 'their',\n",
              " 'daughters',\n",
              " 'My',\n",
              " 'dear',\n",
              " 'Mr',\n",
              " 'Bennet',\n",
              " 'said',\n",
              " 'his',\n",
              " 'lady',\n",
              " 'to',\n",
              " 'him',\n",
              " 'one',\n",
              " 'day',\n",
              " 'have',\n",
              " 'you',\n",
              " 'heard',\n",
              " 'that',\n",
              " 'Netherfield',\n",
              " 'Park',\n",
              " 'is',\n",
              " 'let',\n",
              " 'at',\n",
              " 'last',\n",
              " 'Mr',\n",
              " 'Bennet',\n",
              " 'replied',\n",
              " 'that',\n",
              " 'he',\n",
              " 'had',\n",
              " 'not',\n",
              " 'But',\n",
              " 'it',\n",
              " 'is',\n",
              " 'returned',\n",
              " 'she',\n",
              " 'for',\n",
              " 'Mrs',\n",
              " 'Long',\n",
              " 'has',\n",
              " 'just',\n",
              " 'been',\n",
              " 'here',\n",
              " 'and',\n",
              " 'she',\n",
              " 'told',\n",
              " 'me',\n",
              " 'all',\n",
              " 'about',\n",
              " 'it',\n",
              " 'Mr',\n",
              " 'Bennet',\n",
              " 'made',\n",
              " 'no',\n",
              " 'answer',\n",
              " 'Do',\n",
              " 'you',\n",
              " 'not',\n",
              " 'want',\n",
              " 'to',\n",
              " 'know',\n",
              " 'who',\n",
              " 'has',\n",
              " 'taken',\n",
              " 'it',\n",
              " 'cried',\n",
              " 'his',\n",
              " 'wife',\n",
              " 'impatiently',\n",
              " 'You',\n",
              " 'want',\n",
              " 'to',\n",
              " 'tell',\n",
              " 'me',\n",
              " 'and',\n",
              " 'I',\n",
              " 'have',\n",
              " 'no',\n",
              " 'objection',\n",
              " 'to',\n",
              " 'hearing',\n",
              " 'it',\n",
              " 'This',\n",
              " 'was',\n",
              " 'invitation',\n",
              " 'enough',\n",
              " 'Why',\n",
              " 'my',\n",
              " 'dear',\n",
              " 'you',\n",
              " 'must',\n",
              " 'know',\n",
              " 'Mrs',\n",
              " 'Long',\n",
              " 'says',\n",
              " 'that',\n",
              " 'Netherfield',\n",
              " 'is',\n",
              " 'taken',\n",
              " 'by',\n",
              " 'a',\n",
              " 'young',\n",
              " 'man',\n",
              " 'of',\n",
              " 'large',\n",
              " 'fortune',\n",
              " 'from',\n",
              " 'the',\n",
              " 'north',\n",
              " 'of',\n",
              " 'England',\n",
              " 'that',\n",
              " 'he',\n",
              " 'came',\n",
              " 'down',\n",
              " 'on',\n",
              " 'Monday',\n",
              " 'in',\n",
              " 'a',\n",
              " 'chaise',\n",
              " 'and',\n",
              " 'four',\n",
              " 'to',\n",
              " 'see',\n",
              " 'the',\n",
              " 'place',\n",
              " 'and',\n",
              " 'was',\n",
              " 'so',\n",
              " 'much',\n",
              " 'delighted',\n",
              " 'with',\n",
              " 'it',\n",
              " 'that',\n",
              " 'he',\n",
              " 'agreed',\n",
              " 'with',\n",
              " 'Mr',\n",
              " 'Morris',\n",
              " 'immediately',\n",
              " 'that',\n",
              " 'he',\n",
              " 'is',\n",
              " 'to',\n",
              " 'take',\n",
              " 'possession',\n",
              " 'before',\n",
              " 'Michaelmas',\n",
              " 'and',\n",
              " 'some',\n",
              " 'of',\n",
              " 'his',\n",
              " 'servants',\n",
              " 'are',\n",
              " 'to',\n",
              " 'be',\n",
              " 'in',\n",
              " 'the',\n",
              " 'house',\n",
              " 'by',\n",
              " 'the',\n",
              " 'end',\n",
              " 'of',\n",
              " 'next',\n",
              " 'week',\n",
              " 'What',\n",
              " 'is',\n",
              " 'his',\n",
              " 'name']"
            ]
          },
          "metadata": {
            "tags": []
          },
          "execution_count": 63
        }
      ]
    },
    {
      "cell_type": "code",
      "metadata": {
        "colab": {
          "base_uri": "https://localhost:8080/"
        },
        "id": "xNMoQQUtrrAS",
        "outputId": "58547bad-7011-40b7-efdc-016a91c7137f"
      },
      "source": [
        "unique_words_as_dict = dict.fromkeys(list_of_words)\n",
        "len(list(unique_words_as_dict.keys()))"
      ],
      "execution_count": 64,
      "outputs": [
        {
          "output_type": "execute_result",
          "data": {
            "text/plain": [
              "135"
            ]
          },
          "metadata": {
            "tags": []
          },
          "execution_count": 64
        }
      ]
    },
    {
      "cell_type": "code",
      "metadata": {
        "colab": {
          "base_uri": "https://localhost:8080/"
        },
        "id": "ytUvfuEErtoY",
        "outputId": "0bb7eee4-c183-46b0-9bbb-de32a5e63ab7"
      },
      "source": [
        "\n",
        "for word in list_of_words:\n",
        "    if unique_words_as_dict[word] is None:\n",
        "        unique_words_as_dict[word] = 1\n",
        "    else:\n",
        "        unique_words_as_dict[word] += 1\n",
        "unique_words_as_dict"
      ],
      "execution_count": 65,
      "outputs": [
        {
          "output_type": "execute_result",
          "data": {
            "text/plain": [
              "{'Bennet': 3,\n",
              " 'But': 1,\n",
              " 'Do': 1,\n",
              " 'England': 1,\n",
              " 'However': 1,\n",
              " 'I': 1,\n",
              " 'It': 1,\n",
              " 'Long': 2,\n",
              " 'Michaelmas': 1,\n",
              " 'Monday': 1,\n",
              " 'Morris': 1,\n",
              " 'Mr': 4,\n",
              " 'Mrs': 2,\n",
              " 'My': 1,\n",
              " 'Netherfield': 2,\n",
              " 'Park': 1,\n",
              " 'This': 1,\n",
              " 'What': 1,\n",
              " 'Why': 1,\n",
              " 'You': 1,\n",
              " 'a': 8,\n",
              " 'about': 1,\n",
              " 'acknowledged': 1,\n",
              " 'agreed': 1,\n",
              " 'all': 1,\n",
              " 'and': 5,\n",
              " 'answer': 1,\n",
              " 'are': 1,\n",
              " 'at': 1,\n",
              " 'be': 3,\n",
              " 'been': 1,\n",
              " 'before': 1,\n",
              " 'by': 2,\n",
              " 'came': 1,\n",
              " 'chaise': 1,\n",
              " 'considered': 1,\n",
              " 'cried': 1,\n",
              " 'daughters': 1,\n",
              " 'day': 1,\n",
              " 'dear': 2,\n",
              " 'delighted': 1,\n",
              " 'down': 1,\n",
              " 'end': 1,\n",
              " 'enough': 1,\n",
              " 'entering': 1,\n",
              " 'families': 1,\n",
              " 'feelings': 1,\n",
              " 'first': 1,\n",
              " 'fixed': 1,\n",
              " 'for': 1,\n",
              " 'fortune': 2,\n",
              " 'four': 1,\n",
              " 'from': 1,\n",
              " 'good': 1,\n",
              " 'had': 1,\n",
              " 'has': 2,\n",
              " 'have': 2,\n",
              " 'he': 5,\n",
              " 'heard': 1,\n",
              " 'hearing': 1,\n",
              " 'here': 1,\n",
              " 'him': 1,\n",
              " 'his': 5,\n",
              " 'house': 1,\n",
              " 'immediately': 1,\n",
              " 'impatiently': 1,\n",
              " 'in': 5,\n",
              " 'invitation': 1,\n",
              " 'is': 8,\n",
              " 'it': 5,\n",
              " 'just': 1,\n",
              " 'know': 2,\n",
              " 'known': 1,\n",
              " 'lady': 1,\n",
              " 'large': 1,\n",
              " 'last': 1,\n",
              " 'let': 1,\n",
              " 'little': 1,\n",
              " 'made': 1,\n",
              " 'man': 3,\n",
              " 'may': 1,\n",
              " 'me': 2,\n",
              " 'minds': 1,\n",
              " 'much': 1,\n",
              " 'must': 2,\n",
              " 'my': 1,\n",
              " 'name': 1,\n",
              " 'neighbourhood': 1,\n",
              " 'next': 1,\n",
              " 'no': 2,\n",
              " 'north': 1,\n",
              " 'not': 2,\n",
              " 'objection': 1,\n",
              " 'of': 10,\n",
              " 'on': 2,\n",
              " 'one': 2,\n",
              " 'or': 2,\n",
              " 'other': 1,\n",
              " 'place': 1,\n",
              " 'possession': 2,\n",
              " 'property': 1,\n",
              " 'replied': 1,\n",
              " 'returned': 1,\n",
              " 'rightful': 1,\n",
              " 'said': 1,\n",
              " 'says': 1,\n",
              " 'see': 1,\n",
              " 'servants': 1,\n",
              " 'she': 2,\n",
              " 'single': 1,\n",
              " 'so': 2,\n",
              " 'some': 2,\n",
              " 'such': 1,\n",
              " 'surrounding': 1,\n",
              " 'take': 1,\n",
              " 'taken': 2,\n",
              " 'tell': 1,\n",
              " 'that': 8,\n",
              " 'the': 8,\n",
              " 'their': 1,\n",
              " 'this': 1,\n",
              " 'to': 7,\n",
              " 'told': 1,\n",
              " 'truth': 2,\n",
              " 'universally': 1,\n",
              " 'views': 1,\n",
              " 'want': 3,\n",
              " 'was': 2,\n",
              " 'week': 1,\n",
              " 'well': 1,\n",
              " 'who': 1,\n",
              " 'wife': 2,\n",
              " 'with': 2,\n",
              " 'you': 3,\n",
              " 'young': 1}"
            ]
          },
          "metadata": {
            "tags": []
          },
          "execution_count": 65
        }
      ]
    },
    {
      "cell_type": "code",
      "metadata": {
        "colab": {
          "base_uri": "https://localhost:8080/"
        },
        "id": "te3OjxXorvEo",
        "outputId": "d42493ec-3aaa-414e-db93-34ed0197c481"
      },
      "source": [
        "top_words = sorted(unique_words_as_dict.items(), key=lambda key_val_tuple: key_val_tuple[1], reverse=True)\n",
        "top_words[:25]"
      ],
      "execution_count": 66,
      "outputs": [
        {
          "output_type": "execute_result",
          "data": {
            "text/plain": [
              "[('of', 10),\n",
              " ('is', 8),\n",
              " ('a', 8),\n",
              " ('that', 8),\n",
              " ('the', 8),\n",
              " ('to', 7),\n",
              " ('in', 5),\n",
              " ('his', 5),\n",
              " ('he', 5),\n",
              " ('it', 5),\n",
              " ('and', 5),\n",
              " ('Mr', 4),\n",
              " ('man', 3),\n",
              " ('be', 3),\n",
              " ('want', 3),\n",
              " ('Bennet', 3),\n",
              " ('you', 3),\n",
              " ('truth', 2),\n",
              " ('possession', 2),\n",
              " ('fortune', 2),\n",
              " ('must', 2),\n",
              " ('wife', 2),\n",
              " ('or', 2),\n",
              " ('on', 2),\n",
              " ('so', 2)]"
            ]
          },
          "metadata": {
            "tags": []
          },
          "execution_count": 66
        }
      ]
    },
    {
      "cell_type": "code",
      "metadata": {
        "id": "ZP-DAkKarxz6"
      },
      "source": [
        ""
      ],
      "execution_count": null,
      "outputs": []
    }
  ]
}